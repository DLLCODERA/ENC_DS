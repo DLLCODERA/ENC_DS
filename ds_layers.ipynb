{
 "cells": [
  {
   "cell_type": "code",
   "execution_count": 3,
   "metadata": {
    "collapsed": true
   },
   "outputs": [],
   "source": [
    "import tensorflow as tf\n",
    "\n",
    "prototypes = 200\n",
    "\n",
    "\n",
    "class DS1(tf.keras.layers.Layer):\n",
    "    def __init__(self, units, input_dim):\n",
    "        super(DS1, self).__init__()\n",
    "        self.w = self.add_weight(\n",
    "            name='Prototypes',\n",
    "            shape=(units, input_dim),\n",
    "            initializer='random_normal',\n",
    "            trainable=True\n",
    "        )\n",
    "        self.units = units\n",
    "\n",
    "    def call(self, inputs):\n",
    "        for i in range(self.units):\n",
    "            if i == 0:\n",
    "                un_mass_i = tf.subtract(self.w[i, :], inputs, name=None)\n",
    "                un_mass_i = tf.square(un_mass_i, name=None)\n",
    "                un_mass_i = tf.reduce_sum(un_mass_i, -1, keepdims=True)\n",
    "                un_mass = un_mass_i\n",
    "\n",
    "            if i >= 1:\n",
    "                un_mass_i = tf.subtract(self.w[i, :], inputs, name=None)\n",
    "                un_mass_i = tf.square(un_mass_i, name=None)  #(N, 128)\n",
    "                un_mass_i = tf.reduce_sum(un_mass_i, -1, keepdims=True)  #(N, 1)\n",
    "                un_mass = tf.concat([un_mass, un_mass_i], -1)  #(N, 200, 1)\n",
    "\n",
    "        return un_mass"
   ]
  },
  {
   "cell_type": "code",
   "execution_count": 4,
   "outputs": [
    {
     "name": "stdout",
     "output_type": "stream",
     "text": [
      "a = Tensor(\"input_2:0\", shape=(None, 128), dtype=float32)\n",
      "out1 =Tensor(\"d_s1_1/Identity:0\", shape=(None, 200), dtype=float32)\n"
     ]
    }
   ],
   "source": [
    "a = tf.keras.layers.Input(128)\n",
    "print(\"a = \" + str(a))\n",
    "out1 = DS1(prototypes, 128)(a)\n",
    "print(\"out1 =\" + str(out1))"
   ],
   "metadata": {
    "collapsed": false,
    "pycharm": {
     "name": "#%%\n"
    }
   }
  },
  {
   "cell_type": "code",
   "execution_count": 5,
   "outputs": [],
   "source": [
    "class DS1_activate(tf.keras.layers.Layer):\n",
    "    def __init__(self, input_dim):\n",
    "        super(DS1_activate, self).__init__()\n",
    "        self.xi = self.add_weight(\n",
    "            name='xi',\n",
    "            shape=(1, input_dim),\n",
    "            initializer='random_normal',\n",
    "            trainable=True\n",
    "        )\n",
    "        self.eta = self.add_weight(\n",
    "            name='eta',\n",
    "            shape=(1, input_dim),\n",
    "            initializer='random_normal',\n",
    "            trainable=True\n",
    "        )\n",
    "        self.input_dim = input_dim\n",
    "\n",
    "    def call(self, inputs):\n",
    "        gamma = tf.square(self.eta, name=None)\n",
    "        alpha = tf.negative(self.xi, name=None)\n",
    "        alpha = tf.exp(alpha, name=None) + 1\n",
    "        alpha = tf.divide(1, alpha, name=None)\n",
    "        si = tf.multiply(gamma, inputs, name=None)\n",
    "        si = tf.negative(si, name=None)\n",
    "        si = tf.exp(si, name=None)\n",
    "        si = tf.multiply(si, alpha, name=None)\n",
    "        si = tf.divide(si, (tf.reduce_max(si, axis=-1, keepdims=True) + 0.001), name=None)\n",
    "\n",
    "        return si"
   ],
   "metadata": {
    "collapsed": false,
    "pycharm": {
     "name": "#%%\n"
    }
   }
  },
  {
   "cell_type": "code",
   "execution_count": 6,
   "outputs": [
    {
     "name": "stdout",
     "output_type": "stream",
     "text": [
      "out2 =Tensor(\"d_s1_activate/Identity:0\", shape=(None, 200), dtype=float32)\n"
     ]
    }
   ],
   "source": [
    "out2 = DS1_activate(prototypes)(out1)\n",
    "print(\"out2 =\" + str(out2))"
   ],
   "metadata": {
    "collapsed": false,
    "pycharm": {
     "name": "#%%\n"
    }
   }
  },
  {
   "cell_type": "code",
   "execution_count": 7,
   "outputs": [],
   "source": [
    "class DS2(tf.keras.layers.Layer):\n",
    "    def __init__(self, input_dim, num_class):\n",
    "        super(DS2, self).__init__()\n",
    "        self.beta = self.add_weight(\n",
    "            name='beta',\n",
    "            shape=(input_dim, num_class),\n",
    "            initializer='random_normal',\n",
    "            trainable=True\n",
    "        )\n",
    "        self.input_dim = input_dim\n",
    "        self.num_class = num_class\n",
    "\n",
    "    def call(self, inputs):\n",
    "        beta = tf.square(self.beta, name=None)  #(200,10)\n",
    "        beta_sum = tf.reduce_sum(beta, -1, keepdims=True)  #(200, 1)\n",
    "        u = tf.divide(beta, beta_sum, name=None)  #(200, 10)\n",
    "        inputs_new = tf.expand_dims(inputs, -1)  #(None,200) -> (None,200, 1)\n",
    "        for i in range(self.input_dim):\n",
    "            if i == 0:\n",
    "                # (1, 10) * (None,1,1) -> (None,10)\n",
    "                mass_prototype_i = tf.multiply(u[i, :], inputs_new[:, i], name=None)\n",
    "                mass_prototype = tf.expand_dims(mass_prototype_i, -2)  # (None,1,10)\n",
    "\n",
    "            if i >= 1:\n",
    "                mass_prototype_i = tf.expand_dims(tf.multiply(u[i, :], inputs_new[:, i], name=None), -2)\n",
    "                mass_prototype = tf.concat([mass_prototype, mass_prototype_i], -2)  # (None, 200, 10)\n",
    "\n",
    "        mass_prototype = tf.convert_to_tensor(mass_prototype)\n",
    "        return mass_prototype"
   ],
   "metadata": {
    "collapsed": false,
    "pycharm": {
     "name": "#%%\n"
    }
   }
  },
  {
   "cell_type": "code",
   "execution_count": 8,
   "outputs": [
    {
     "name": "stdout",
     "output_type": "stream",
     "text": [
      "out3 = Tensor(\"d_s2/Identity:0\", shape=(None, 200, 10), dtype=float32)\n"
     ]
    }
   ],
   "source": [
    "out3 = DS2(prototypes, 10)(out2)\n",
    "print(\"out3 = \" + str(out3))"
   ],
   "metadata": {
    "collapsed": false,
    "pycharm": {
     "name": "#%%\n"
    }
   }
  },
  {
   "cell_type": "markdown",
   "source": [],
   "metadata": {
    "collapsed": false
   }
  },
  {
   "cell_type": "code",
   "execution_count": 9,
   "outputs": [],
   "source": [
    "class DS2_omega(tf.keras.layers.Layer):\n",
    "    def __init__(self, input_dim, num_class):\n",
    "        super(DS2_omega, self).__init__()\n",
    "        self.input_dim = input_dim\n",
    "        self.num_class = num_class\n",
    "\n",
    "    def call(self, inputs):\n",
    "        mass_omega_sum = tf.reduce_sum(inputs, -1, keepdims=True)  # (None, 200, 1)\n",
    "        mass_omega_sum = tf.subtract(1., mass_omega_sum[:, :, 0], name=None)  # (None, 200)\n",
    "        mass_omega_sum = tf.expand_dims(mass_omega_sum, -1)  # (None, 200, 1)\n",
    "        mass_with_omega = tf.concat([inputs, mass_omega_sum], -1)  # (None, 200, 11)\n",
    "        return mass_with_omega"
   ],
   "metadata": {
    "collapsed": false,
    "pycharm": {
     "name": "#%%\n"
    }
   }
  },
  {
   "cell_type": "code",
   "execution_count": 10,
   "outputs": [
    {
     "name": "stdout",
     "output_type": "stream",
     "text": [
      "out4 = Tensor(\"d_s2_omega/Identity:0\", shape=(None, 200, 11), dtype=float32)\n"
     ]
    }
   ],
   "source": [
    "out4 = DS2_omega(prototypes, 10)(out3)\n",
    "print(\"out4 = \" + str(out4))"
   ],
   "metadata": {
    "collapsed": false,
    "pycharm": {
     "name": "#%%\n"
    }
   }
  },
  {
   "cell_type": "code",
   "execution_count": 11,
   "outputs": [],
   "source": [
    "class DS3_Dempster(tf.keras.layers.Layer):\n",
    "    def __init__(self, input_dim, num_class):\n",
    "        super(DS3_Dempster, self).__init__()\n",
    "        self.input_dim = input_dim\n",
    "        self.num_class = num_class\n",
    "\n",
    "    def call(self, inputs):\n",
    "        m1 = inputs[:, 0, :]  # (None, 11)\n",
    "        omega1 = tf.expand_dims(inputs[:, 0, -1], -1)  # (None, 1 )\n",
    "        for i in range(self.input_dim - 1):\n",
    "            m2 = inputs[:, (i + 1), :]\n",
    "            omega2 = tf.expand_dims(inputs[:, (i + 1), -1], -1)  # (None, 1)\n",
    "            combine1 = tf.multiply(m1, m2, name=None)  # (None, 11)\n",
    "            combine2 = tf.multiply(m1, omega2, name=None)  # (Nobe, 11)\n",
    "            combine3 = tf.multiply(omega1, m2, name=None)\n",
    "            combine1_2 = tf.add(combine1, combine2, name=None)\n",
    "            combine2_3 = tf.add(combine1_2, combine3, name=None)\n",
    "            combine2_3 = combine2_3 / tf.reduce_sum(combine2_3, axis=-1, keepdims=True)\n",
    "            m1 = combine2_3\n",
    "            omega1 = tf.expand_dims(combine2_3[:, -1], -1)\n",
    "        return m1"
   ],
   "metadata": {
    "collapsed": false,
    "pycharm": {
     "name": "#%%\n"
    }
   }
  },
  {
   "cell_type": "code",
   "execution_count": 12,
   "outputs": [
    {
     "name": "stdout",
     "output_type": "stream",
     "text": [
      "out5 = Tensor(\"d_s3__dempster/Identity:0\", shape=(None, 11), dtype=float32)\n"
     ]
    }
   ],
   "source": [
    "out5 = DS3_Dempster(prototypes, 10)(out4)\n",
    "print(\"out5 = \" + str(out5))"
   ],
   "metadata": {
    "collapsed": false,
    "pycharm": {
     "name": "#%%\n"
    }
   }
  },
  {
   "cell_type": "code",
   "execution_count": 13,
   "outputs": [],
   "source": [
    "class DS3_normalize(tf.keras.layers.Layer):\n",
    "    def __init__(self):\n",
    "        super(DS3_normalize, self).__init__()\n",
    "\n",
    "    def call(self, inputs):\n",
    "        mass_combine_normalize = inputs / tf.reduce_sum(inputs, axis=-1, keepdims=True)\n",
    "        return mass_combine_normalize"
   ],
   "metadata": {
    "collapsed": false,
    "pycharm": {
     "name": "#%%\n"
    }
   }
  },
  {
   "cell_type": "code",
   "execution_count": 14,
   "outputs": [
    {
     "name": "stdout",
     "output_type": "stream",
     "text": [
      "out6 = Tensor(\"d_s3_normalize/Identity:0\", shape=(None, 11), dtype=float32)\n"
     ]
    }
   ],
   "source": [
    "out6 = DS3_normalize()(out5)\n",
    "print(\"out6 = \" + str(out6))"
   ],
   "metadata": {
    "collapsed": false,
    "pycharm": {
     "name": "#%%\n"
    }
   }
  },
  {
   "cell_type": "code",
   "execution_count": 15,
   "outputs": [],
   "source": [
    "class DM(tf.keras.layers.Layer):\n",
    "    def __init__(self, nu, num_class):\n",
    "        super(DM, self).__init__()\n",
    "        self.nu = nu\n",
    "        self.num_class = num_class\n",
    "\n",
    "    def call(self, inputs):\n",
    "        upper = tf.expand_dims((1-self.nu) * inputs[:,-1], -1)  # (None, 1)\n",
    "        upper = tf.tile(upper, [1, self.num_class + 1])  # (None, 11)\n",
    "        outputs = tf.add(inputs, upper, name=None)[:, 0:-1]  # (None, 10)\n",
    "        return outputs"
   ],
   "metadata": {
    "collapsed": false,
    "pycharm": {
     "name": "#%%\n"
    }
   }
  },
  {
   "cell_type": "code",
   "execution_count": 16,
   "outputs": [
    {
     "name": "stdout",
     "output_type": "stream",
     "text": [
      "out7 = Tensor(\"dm/Identity:0\", shape=(None, 10), dtype=float32)\n"
     ]
    }
   ],
   "source": [
    "out7 = DM(0.9, 10)(out6)\n",
    "print(\"out7 = \" + str(out7))"
   ],
   "metadata": {
    "collapsed": false,
    "pycharm": {
     "name": "#%%\n"
    }
   }
  },
  {
   "cell_type": "code",
   "execution_count": 16,
   "outputs": [],
   "source": [],
   "metadata": {
    "collapsed": false,
    "pycharm": {
     "name": "#%%\n"
    }
   }
  }
 ],
 "metadata": {
  "kernelspec": {
   "display_name": "Python 3",
   "language": "python",
   "name": "python3"
  },
  "language_info": {
   "codemirror_mode": {
    "name": "ipython",
    "version": 2
   },
   "file_extension": ".py",
   "mimetype": "text/x-python",
   "name": "python",
   "nbconvert_exporter": "python",
   "pygments_lexer": "ipython2",
   "version": "2.7.6"
  }
 },
 "nbformat": 4,
 "nbformat_minor": 0
}
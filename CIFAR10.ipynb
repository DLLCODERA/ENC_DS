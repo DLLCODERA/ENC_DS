{
 "cells": [
  {
   "cell_type": "code",
   "execution_count": 1,
   "metadata": {
    "collapsed": true
   },
   "outputs": [
    {
     "name": "stderr",
     "output_type": "stream",
     "text": [
      "Using TensorFlow backend.\n"
     ]
    },
    {
     "name": "stdout",
     "output_type": "stream",
     "text": [
      "2.1.0\n",
      "python版本:3.6.13 |Anaconda, Inc.| (default, Mar 16 2021, 11:37:27) [MSC v.1916 64 bit (AMD64)]\n"
     ]
    }
   ],
   "source": [
    "import tensorflow as tf\n",
    "import sys\n",
    "from tensorflow import keras\n",
    "from tensorflow.keras import layers\n",
    "from tensorflow.keras.datasets import cifar10\n",
    "from keras.utils import np_utils\n",
    "import matplotlib.pyplot as plt\n",
    "from keras.callbacks import ModelCheckpoint\n",
    "from tensorflow.keras.preprocessing.image import ImageDataGenerator\n",
    "print(tf.__version__)\n",
    "print(\"python版本:%s\"% sys.version)\n",
    "\n",
    "import libs.ds_layer as ds  #Dempster-Shafer layer\n",
    "import libs.utility_layer_train as uti_train\n",
    "import libs.utility_layer_test as uti_test #Utility layer for training\n",
    "import libs.AU_imprecision as AU #Metric average utility for set-valued classification\n",
    "\n",
    "from scipy.optimize import minimize\n",
    "import math\n",
    "import numpy as np"
   ]
  },
  {
   "cell_type": "code",
   "execution_count": 2,
   "outputs": [
    {
     "name": "stdout",
     "output_type": "stream",
     "text": [
      "(50000, 32, 32, 3) (50000, 10) (10000, 32, 32, 3) (10000, 10)\n"
     ]
    }
   ],
   "source": [
    "(x_train, y_train), (x_test, y_test) = cifar10.load_data()\n",
    "x_train=x_train.astype(\"float32\") / 255.0\n",
    "x_test=x_test.astype(\"float32\") / 255.0\n",
    "y_train_label = y_train\n",
    "y_test_label = y_test\n",
    "y_train = np_utils.to_categorical(y_train)\n",
    "y_test = np_utils.to_categorical(y_test)\n",
    "print(x_train.shape, y_train.shape, x_test.shape, y_test.shape)"
   ],
   "metadata": {
    "collapsed": false,
    "pycharm": {
     "name": "#%%\n"
    }
   }
  },
  {
   "cell_type": "code",
   "execution_count": 3,
   "outputs": [
    {
     "name": "stdout",
     "output_type": "stream",
     "text": [
      "Model: \"model\"\n",
      "_________________________________________________________________\n",
      "Layer (type)                 Output Shape              Param #   \n",
      "=================================================================\n",
      "input_2 (InputLayer)         [(None, 32, 32, 3)]       0         \n",
      "_________________________________________________________________\n",
      "conv2d (Conv2D)              (None, 32, 32, 32)        896       \n",
      "_________________________________________________________________\n",
      "conv2d_1 (Conv2D)            (None, 32, 32, 32)        9248      \n",
      "_________________________________________________________________\n",
      "conv2d_2 (Conv2D)            (None, 32, 32, 32)        9248      \n",
      "_________________________________________________________________\n",
      "conv2d_3 (Conv2D)            (None, 32, 32, 48)        13872     \n",
      "_________________________________________________________________\n",
      "conv2d_4 (Conv2D)            (None, 32, 32, 48)        20784     \n",
      "_________________________________________________________________\n",
      "batch_normalization (BatchNo (None, 32, 32, 48)        192       \n",
      "_________________________________________________________________\n",
      "max_pooling2d (MaxPooling2D) (None, 16, 16, 48)        0         \n",
      "_________________________________________________________________\n",
      "dropout (Dropout)            (None, 16, 16, 48)        0         \n",
      "_________________________________________________________________\n",
      "conv2d_5 (Conv2D)            (None, 16, 16, 80)        34640     \n",
      "_________________________________________________________________\n",
      "conv2d_6 (Conv2D)            (None, 16, 16, 80)        57680     \n",
      "_________________________________________________________________\n",
      "conv2d_7 (Conv2D)            (None, 16, 16, 80)        57680     \n",
      "_________________________________________________________________\n",
      "conv2d_8 (Conv2D)            (None, 16, 16, 80)        57680     \n",
      "_________________________________________________________________\n",
      "conv2d_9 (Conv2D)            (None, 16, 16, 80)        57680     \n",
      "_________________________________________________________________\n",
      "batch_normalization_1 (Batch (None, 16, 16, 80)        320       \n",
      "_________________________________________________________________\n",
      "max_pooling2d_1 (MaxPooling2 (None, 8, 8, 80)          0         \n",
      "_________________________________________________________________\n",
      "dropout_1 (Dropout)          (None, 8, 8, 80)          0         \n",
      "_________________________________________________________________\n",
      "conv2d_10 (Conv2D)           (None, 8, 8, 128)         92288     \n",
      "_________________________________________________________________\n",
      "conv2d_11 (Conv2D)           (None, 8, 8, 128)         147584    \n",
      "_________________________________________________________________\n",
      "conv2d_12 (Conv2D)           (None, 8, 8, 128)         147584    \n",
      "_________________________________________________________________\n",
      "conv2d_13 (Conv2D)           (None, 8, 8, 128)         147584    \n",
      "_________________________________________________________________\n",
      "conv2d_14 (Conv2D)           (None, 8, 8, 128)         147584    \n",
      "_________________________________________________________________\n",
      "batch_normalization_2 (Batch (None, 8, 8, 128)         512       \n",
      "_________________________________________________________________\n",
      "max_pooling2d_2 (MaxPooling2 (None, 1, 1, 128)         0         \n",
      "_________________________________________________________________\n",
      "dropout_2 (Dropout)          (None, 1, 1, 128)         0         \n",
      "_________________________________________________________________\n",
      "flatten (Flatten)            (None, 128)               0         \n",
      "_________________________________________________________________\n",
      "dense (Dense)                (None, 10)                1290      \n",
      "=================================================================\n",
      "Total params: 1,004,346\n",
      "Trainable params: 1,003,834\n",
      "Non-trainable params: 512\n",
      "_________________________________________________________________\n"
     ]
    }
   ],
   "source": [
    "IMG_WIDTH = 32\n",
    "IMG_HEIGHT = 32\n",
    "IMG_CHANNELS = 3\n",
    "inputs_pixels = IMG_WIDTH * IMG_HEIGHT\n",
    "prototypes=200\n",
    "num_class=10\n",
    "\n",
    "inputs = layers.Input((IMG_HEIGHT, IMG_WIDTH, IMG_CHANNELS))\n",
    "\n",
    "#convolution stages\n",
    "c1_1 = layers.Conv2D(32, (3, 3), activation='relu', kernel_initializer='he_normal', padding='same')(inputs)\n",
    "c1_2 = layers.Conv2D(32, (3, 3), activation='relu', kernel_initializer='he_normal', padding='same')(c1_1)\n",
    "c1_3 = layers.Conv2D(32, (3, 3), activation='relu', kernel_initializer='he_normal', padding='same')(c1_2)\n",
    "c1_4 = layers.Conv2D(48, (3, 3), activation='relu', kernel_initializer='he_normal', padding='same')(c1_3)\n",
    "c1_5 = layers.Conv2D(48, (3, 3), activation='relu', kernel_initializer='he_normal', padding='same')(c1_4)\n",
    "\n",
    "# ICS问题会影响模型的训练，而BN通过将每一层网络的输入进行标准化以及scale和shift，保证了每层输入分布的均值与方差固定在一定范围内，保留了网络的表达能力，缓解了ICS问题，使得网络能够适应更高的学习率，并大大地加速了模型的训练速度。最后，由于BN训练过程中使用的是mini-batch的均值与方差作为总体均值与方差的估计，引入了随机噪声，在一定程度上对模型起到了正则化的效果。\n",
    "bt1 = layers.BatchNormalization()(c1_5)\n",
    "# 池化层\n",
    "p1 = layers.MaxPool2D((2,2))(bt1)\n",
    "# 删除神经元，防止过度拟合\n",
    "dr1 = layers.Dropout(0.5)(p1)\n",
    "\n",
    "#convolution stages\n",
    "c2_1 = layers.Conv2D(80, (3, 3), activation='relu', kernel_initializer='he_normal', padding='same')(dr1)\n",
    "c2_2 = layers.Conv2D(80, (3, 3), activation='relu', kernel_initializer='he_normal', padding='same')(c2_1)\n",
    "c2_3 = layers.Conv2D(80, (3, 3), activation='relu', kernel_initializer='he_normal', padding='same')(c2_2)\n",
    "c2_4 = layers.Conv2D(80, (3, 3), activation='relu', kernel_initializer='he_normal', padding='same')(c2_3)\n",
    "c2_5 = layers.Conv2D(80, (3, 3), activation='relu', kernel_initializer='he_normal', padding='same')(c2_4)\n",
    "\n",
    "# ICS问题会影响模型的训练，而BN通过将每一层网络的输入进行标准化以及scale和shift，保证了每层输入分布的均值与方差固定在一定范围内，保留了网络的表达能力，缓解了ICS问题，使得网络能够适应更高的学习率，并大大地加速了模型的训练速度。最后，由于BN训练过程中使用的是mini-batch的均值与方差作为总体均值与方差的估计，引入了随机噪声，在一定程度上对模型起到了正则化的效果。\n",
    "bt2 = layers.BatchNormalization()(c2_5)\n",
    "# 池化层\n",
    "p2 = layers.MaxPool2D((2,2))(bt2)\n",
    "# 删除神经元，防止过度拟合\n",
    "dr2 = layers.Dropout(0.5)(p2)\n",
    "\n",
    "#convolution stages\n",
    "c3_1 = layers.Conv2D(128, (3, 3), activation='relu', kernel_initializer='he_normal', padding='same')(dr2)\n",
    "c3_2 = layers.Conv2D(128, (3, 3), activation='relu', kernel_initializer='he_normal', padding='same')(c3_1)\n",
    "c3_3 = layers.Conv2D(128, (3, 3), activation='relu', kernel_initializer='he_normal', padding='same')(c3_2)\n",
    "c3_4 = layers.Conv2D(128, (3, 3), activation='relu', kernel_initializer='he_normal', padding='same')(c3_3)\n",
    "c3_5 = layers.Conv2D(128, (3, 3), activation='relu', kernel_initializer='he_normal', padding='same')(c3_4)\n",
    "\n",
    "# ICS问题会影响模型的训练，而BN通过将每一层网络的输入进行标准化以及scale和shift，保证了每层输入分布的均值与方差固定在一定范围内，保留了网络的表达能力，缓解了ICS问题，使得网络能够适应更高的学习率，并大大地加速了模型的训练速度。最后，由于BN训练过程中使用的是mini-batch的均值与方差作为总体均值与方差的估计，引入了随机噪声，在一定程度上对模型起到了正则化的效果。\n",
    "bt3 = layers.BatchNormalization()(c3_5)\n",
    "# 池化层\n",
    "p3 = layers.MaxPool2D((8,8))(bt3)\n",
    "# 删除神经元，防止过度拟合\n",
    "dr3 = layers.Dropout(0.5)(p3)\n",
    "# 用于将输入层的数据压成一维的数据，一般用再卷积层和全连接层之间（因为全连接层只能接收一维数据，而卷积层可以处理二维数据，就是全连接层处理的是向量，而卷积层处理的是矩阵\n",
    "flatten1 = layers.Flatten()(dr3)\n",
    "\n",
    "outputs = layers.Dense(num_class, activation='softmax')(flatten1)\n",
    "\n",
    "model_p = keras.Model(inputs=[inputs], outputs=[outputs])\n",
    "model_p.compile(optimizer=keras.optimizers.Nadam(lr=0.001, beta_1=0.9, beta_2=0.999, epsilon=None, schedule_decay=0.004),\n",
    "                loss='categorical_crossentropy',\n",
    "                metrics=['accuracy'])\n",
    "model_p.summary()"
   ],
   "metadata": {
    "collapsed": false,
    "pycharm": {
     "name": "#%%\n"
    }
   }
  },
  {
   "cell_type": "code",
   "execution_count": 4,
   "outputs": [
    {
     "name": "stdout",
     "output_type": "stream",
     "text": [
      "Model: \"model_1\"\n",
      "_________________________________________________________________\n",
      "Layer (type)                 Output Shape              Param #   \n",
      "=================================================================\n",
      "input_2 (InputLayer)         [(None, 32, 32, 3)]       0         \n",
      "_________________________________________________________________\n",
      "conv2d (Conv2D)              (None, 32, 32, 32)        896       \n",
      "_________________________________________________________________\n",
      "conv2d_1 (Conv2D)            (None, 32, 32, 32)        9248      \n",
      "_________________________________________________________________\n",
      "conv2d_2 (Conv2D)            (None, 32, 32, 32)        9248      \n",
      "_________________________________________________________________\n",
      "conv2d_3 (Conv2D)            (None, 32, 32, 48)        13872     \n",
      "_________________________________________________________________\n",
      "conv2d_4 (Conv2D)            (None, 32, 32, 48)        20784     \n",
      "_________________________________________________________________\n",
      "batch_normalization (BatchNo (None, 32, 32, 48)        192       \n",
      "_________________________________________________________________\n",
      "max_pooling2d (MaxPooling2D) (None, 16, 16, 48)        0         \n",
      "_________________________________________________________________\n",
      "dropout (Dropout)            (None, 16, 16, 48)        0         \n",
      "_________________________________________________________________\n",
      "conv2d_5 (Conv2D)            (None, 16, 16, 80)        34640     \n",
      "_________________________________________________________________\n",
      "conv2d_6 (Conv2D)            (None, 16, 16, 80)        57680     \n",
      "_________________________________________________________________\n",
      "conv2d_7 (Conv2D)            (None, 16, 16, 80)        57680     \n",
      "_________________________________________________________________\n",
      "conv2d_8 (Conv2D)            (None, 16, 16, 80)        57680     \n",
      "_________________________________________________________________\n",
      "conv2d_9 (Conv2D)            (None, 16, 16, 80)        57680     \n",
      "_________________________________________________________________\n",
      "batch_normalization_1 (Batch (None, 16, 16, 80)        320       \n",
      "_________________________________________________________________\n",
      "max_pooling2d_1 (MaxPooling2 (None, 8, 8, 80)          0         \n",
      "_________________________________________________________________\n",
      "dropout_1 (Dropout)          (None, 8, 8, 80)          0         \n",
      "_________________________________________________________________\n",
      "conv2d_10 (Conv2D)           (None, 8, 8, 128)         92288     \n",
      "_________________________________________________________________\n",
      "conv2d_11 (Conv2D)           (None, 8, 8, 128)         147584    \n",
      "_________________________________________________________________\n",
      "conv2d_12 (Conv2D)           (None, 8, 8, 128)         147584    \n",
      "_________________________________________________________________\n",
      "conv2d_13 (Conv2D)           (None, 8, 8, 128)         147584    \n",
      "_________________________________________________________________\n",
      "conv2d_14 (Conv2D)           (None, 8, 8, 128)         147584    \n",
      "_________________________________________________________________\n",
      "batch_normalization_2 (Batch (None, 8, 8, 128)         512       \n",
      "_________________________________________________________________\n",
      "max_pooling2d_2 (MaxPooling2 (None, 1, 1, 128)         0         \n",
      "_________________________________________________________________\n",
      "dropout_2 (Dropout)          (None, 1, 1, 128)         0         \n",
      "_________________________________________________________________\n",
      "flatten (Flatten)            (None, 128)               0         \n",
      "_________________________________________________________________\n",
      "d_s1_1 (DS1)                 (None, 200)               25600     \n",
      "_________________________________________________________________\n",
      "d_s1_activate_1 (DS1_activat (None, 200)               400       \n",
      "_________________________________________________________________\n",
      "d_s2_1 (DS2)                 (None, 200, 10)           2000      \n",
      "_________________________________________________________________\n",
      "d_s2_omega (DS2_omega)       (None, 200, 11)           0         \n",
      "_________________________________________________________________\n",
      "d_s3__dempster (DS3_Dempster (None, 11)                0         \n",
      "_________________________________________________________________\n",
      "d_s3_normalize (DS3_normaliz (None, 11)                0         \n",
      "_________________________________________________________________\n",
      "dm (DM)                      (None, 10)                0         \n",
      "=================================================================\n",
      "Total params: 1,031,056\n",
      "Trainable params: 1,030,544\n",
      "Non-trainable params: 512\n",
      "_________________________________________________________________\n"
     ]
    }
   ],
   "source": [
    "# DS layers\n",
    "ED = ds.DS1(prototypes,128)(flatten1)\n",
    "ED_ac = ds.DS1_activate(prototypes)(ED)\n",
    "mass_prototype = ds.DS2(prototypes, num_class)(ED_ac)\n",
    "mass_prototype_omega = ds.DS2_omega(prototypes, num_class)(mass_prototype)\n",
    "mass_Dempster = ds.DS3_Dempster(prototypes, num_class)(mass_prototype_omega)\n",
    "mass_Dempster_normalize = ds.DS3_normalize()(mass_Dempster)\n",
    "\n",
    "# Utility layer for training\n",
    "outputs = uti_train.DM(0.9, num_class)(mass_Dempster_normalize)\n",
    "\n",
    "model_e = keras.Model(inputs=[inputs], outputs=[outputs])\n",
    "model_e.compile(optimizer=keras.optimizers.Nadam(lr=0.001, beta_1=0.9, beta_2=0.999, epsilon=None, schedule_decay=0.005),\n",
    "                loss='categorical_crossentropy',\n",
    "                metrics=['accuracy'])\n",
    "model_e.summary()"
   ],
   "metadata": {
    "collapsed": false,
    "pycharm": {
     "name": "#%%\n"
    }
   }
  },
  {
   "cell_type": "code",
   "execution_count": 5,
   "outputs": [],
   "source": [
    "filepath = \"C:\\DLDoc\\CIFAR10\"\n",
    "checkpoint_callback = ModelCheckpoint(\n",
    "    filepath, monitor='val_accuracy', verbose=1,\n",
    "    save_best_only=True, save_weights_only=True,\n",
    "    period=1)\n",
    "\n",
    "# model_p.fit(x_train, y_train, batch_size=25, epochs=40, verbose=1, callbacks=[checkpoint_callback], validation_data=(x_test, y_test), shuffle=True)"
   ],
   "metadata": {
    "collapsed": false,
    "pycharm": {
     "name": "#%%\n"
    }
   }
  },
  {
   "cell_type": "code",
   "execution_count": 6,
   "outputs": [
    {
     "name": "stdout",
     "output_type": "stream",
     "text": [
      "10000/10000 [==============================] - 3s 289us/sample - loss: 0.4564 - accuracy: 0.8649\n"
     ]
    },
    {
     "data": {
      "text/plain": "[0.456409379196167, 0.8649]"
     },
     "execution_count": 6,
     "metadata": {},
     "output_type": "execute_result"
    }
   ],
   "source": [
    "model_p.load_weights(\"C:\\DLDoc\\CIFAR10\")\n",
    "#model_p.evaluate(x_train, y_train, batch_size=128, verbose=1)\n",
    "model_p.evaluate(x_test, y_test, batch_size=128, verbose=1)"
   ],
   "metadata": {
    "collapsed": false,
    "pycharm": {
     "name": "#%%\n"
    }
   }
  },
  {
   "cell_type": "code",
   "execution_count": 7,
   "outputs": [],
   "source": [
    "# get the feature using the probabilistic classifier\n",
    "model_e.load_weights(\"C:\\DLDoc\\CIFAR10\")\n",
    "feature = keras.Model(inputs=[inputs], outputs=[flatten1])\n",
    "x_train_feature = feature.predict(x_train)\n",
    "x_test_feature = feature.predict(x_test)\n",
    "\n",
    "# use the feature to train DS layer\n",
    "inputs = layers.Input(128)\n",
    "ED = ds.DS1(prototypes, 128)(inputs)\n",
    "ED_ac = ds.DS1_activate(prototypes)(ED)\n",
    "mass_prototype = ds.DS2(prototypes, num_class)(ED_ac)\n",
    "mass_prototype_omega = ds.DS2_omega(mass_prototype, num_class)(mass_prototype)\n",
    "mass_Dempster = ds.DS3_Dempster(prototypes, num_class)(mass_prototype_omega)\n",
    "mass_Dempster_normalize = ds.DS3_normalize()(mass_Dempster)\n",
    "\n",
    "outputs = uti_train.DM(0.9, num_class)(mass_Dempster_normalize)\n",
    "\n",
    "model_mid = keras.Model(inputs=[inputs], outputs=[outputs])\n",
    "model_mid.compile(optimizer=keras.optimizers.Nadam(lr=0.001, beta_1=0.9, beta_2=0.999, epsilon=None, schedule_decay=0.004),\n",
    "                  loss='categorical_crossentropy',\n",
    "                  metrics=['accuracy'])\n",
    "\n",
    "#model_mid.fit(x_train_feature, y_train, batch_size=64, epochs=15, verbose=1, validation_data=(x_test_feature, y_test), shuffle=True)\n",
    "\n",
    "#give the trained parameters to the evidential model\n",
    "DS1_W = tf.reshape(model_mid.layers[1].get_weights()[0], [1, 200, 128])\n",
    "DS1_activate_W = model_mid.layers[2].get_weights()\n",
    "DS2_W = model_mid.layers[3].get_weights()\n",
    "\n",
    "model_e.layers[26].set_weights(DS1_W)\n",
    "model_e.layers[27].set_weights(DS1_activate_W)\n",
    "model_e.layers[28].set_weights(DS2_W)\n",
    "\n",
    "filepath_e = 'C:\\DLDoc\\model_e'\n",
    "checkpoint_callback_e = ModelCheckpoint(\n",
    "    filepath_e, monitor='val_accuracy', verbose=1,\n",
    "    save_best_only=True, save_weights_only=True,\n",
    "    period=1\n",
    ")\n",
    "\n",
    "#model_e.fit(x_train, y_train, batch_size=64, epochs=15, verbose=1, callbacks=[checkpoint_callback_e], validation_data=(x_test, y_test), shuffle=True)"
   ],
   "metadata": {
    "collapsed": false,
    "pycharm": {
     "name": "#%%\n"
    }
   }
  },
  {
   "cell_type": "code",
   "execution_count": 8,
   "outputs": [
    {
     "name": "stdout",
     "output_type": "stream",
     "text": [
      "10000/10000 [==============================] - 12s 1ms/sample - loss: 0.5550 - accuracy: 0.8644\n"
     ]
    },
    {
     "data": {
      "text/plain": "[0.5549526465415955, 0.8644]"
     },
     "execution_count": 8,
     "metadata": {},
     "output_type": "execute_result"
    }
   ],
   "source": [
    "model_e.load_weights('C:\\DLDoc\\model_e')\n",
    "#model_e.evaluate(x_train, y_train, batch_size=128, verbose=1)\n",
    "model_e.evaluate(x_test, y_test, batch_size=128, verbose=1)"
   ],
   "metadata": {
    "collapsed": false,
    "pycharm": {
     "name": "#%%\n"
    }
   }
  },
  {
   "cell_type": "code",
   "execution_count": 9,
   "outputs": [],
   "source": [
    "# aim func: cross entropy\n",
    "def func(x):\n",
    "    fun=0\n",
    "    for i in range(len(x)):\n",
    "        fun += x[i] * math.log10(x[i])\n",
    "    return fun\n",
    "\n",
    "#constraint 1: the sum of weights is 1\n",
    "def cons1(x):\n",
    "    return sum(x)\n",
    "\n",
    "#constraint 2: define tolerance to imprecision\n",
    "def cons2(x):\n",
    "    tol = 0\n",
    "    for i in range(len(x)):\n",
    "        tol += (len(x) -(i+1)) * x[i] / (len(x) - 1)\n",
    "    return tol"
   ],
   "metadata": {
    "collapsed": false,
    "pycharm": {
     "name": "#%%\n"
    }
   }
  },
  {
   "cell_type": "code",
   "execution_count": 10,
   "outputs": [
    {
     "name": "stdout",
     "output_type": "stream",
     "text": [
      "Optimization terminated successfully    (Exit mode 0)\n",
      "            Current function value: -0.3010299956639812\n",
      "            Iterations: 2\n",
      "            Function evaluations: 6\n",
      "            Gradient evaluations: 2\n",
      "[0.5 0.5]\n",
      "Optimization terminated successfully    (Exit mode 0)\n",
      "            Current function value: -0.2922852532386289\n",
      "            Iterations: 2\n",
      "            Function evaluations: 6\n",
      "            Gradient evaluations: 2\n",
      "[0.6 0.4]\n",
      "Optimization terminated successfully    (Exit mode 0)\n",
      "            Current function value: -0.2652949955741215\n",
      "            Iterations: 2\n",
      "            Function evaluations: 6\n",
      "            Gradient evaluations: 2\n",
      "[0.7 0.3]\n",
      "Optimization terminated successfully    (Exit mode 0)\n",
      "            Current function value: -0.21732201127364886\n",
      "            Iterations: 2\n",
      "            Function evaluations: 6\n",
      "            Gradient evaluations: 2\n",
      "[0.8 0.2]\n",
      "Optimization terminated successfully    (Exit mode 0)\n",
      "            Current function value: -0.14118174150460758\n",
      "            Iterations: 2\n",
      "            Function evaluations: 6\n",
      "            Gradient evaluations: 2\n",
      "[0.9 0.1]\n",
      "Optimization terminated successfully    (Exit mode 0)\n",
      "            Current function value: -0.47712124262701416\n",
      "            Iterations: 5\n",
      "            Function evaluations: 21\n",
      "            Gradient evaluations: 5\n",
      "[0.33338895 0.33322209 0.33338895]\n",
      "Optimization terminated successfully    (Exit mode 0)\n",
      "            Current function value: -0.46399295331544377\n",
      "            Iterations: 5\n",
      "            Function evaluations: 21\n",
      "            Gradient evaluations: 5\n",
      "[0.43848372 0.32303256 0.23848372]\n",
      "Optimization terminated successfully    (Exit mode 0)\n",
      "            Current function value: -0.42332561036233185\n",
      "            Iterations: 5\n",
      "            Function evaluations: 22\n",
      "            Gradient evaluations: 5\n",
      "[0.5539741  0.29205179 0.1539741 ]\n",
      "Optimization terminated successfully    (Exit mode 0)\n",
      "            Current function value: -0.35041920616822986\n",
      "            Iterations: 7\n",
      "            Function evaluations: 30\n",
      "            Gradient evaluations: 7\n",
      "[0.68186243 0.23627514 0.08186243]\n",
      "Optimization terminated successfully    (Exit mode 0)\n",
      "            Current function value: -0.2325876953607545\n",
      "            Iterations: 6\n",
      "            Function evaluations: 26\n",
      "            Gradient evaluations: 6\n",
      "[0.82626492 0.14747015 0.02626492]\n",
      "Optimization terminated successfully    (Exit mode 0)\n",
      "            Current function value: -0.6020599291677247\n",
      "            Iterations: 4\n",
      "            Function evaluations: 20\n",
      "            Gradient evaluations: 4\n",
      "[0.24996702 0.24993756 0.25022383 0.24987159]\n",
      "Optimization terminated successfully    (Exit mode 0)\n",
      "            Current function value: -0.5862954656472786\n",
      "            Iterations: 4\n",
      "            Function evaluations: 22\n",
      "            Gradient evaluations: 4\n",
      "[0.34745347 0.27219227 0.21325504 0.16709922]\n",
      "Optimization terminated successfully    (Exit mode 0)\n",
      "            Current function value: -0.5373185875778034\n",
      "            Iterations: 5\n",
      "            Function evaluations: 26\n",
      "            Gradient evaluations: 5\n",
      "[0.46135442 0.27564259 0.16465155 0.09835144]\n",
      "Optimization terminated successfully    (Exit mode 0)\n",
      "            Current function value: -0.4488877036690954\n",
      "            Iterations: 7\n",
      "            Function evaluations: 38\n",
      "            Gradient evaluations: 7\n",
      "[0.59617537 0.25242683 0.10662025 0.04477756]\n",
      "Optimization terminated successfully    (Exit mode 0)\n",
      "            Current function value: -0.30367531325064256\n",
      "            Iterations: 9\n",
      "            Function evaluations: 50\n",
      "            Gradient evaluations: 9\n",
      "[0.76416952 0.18189476 0.04370192 0.0102338 ]\n",
      "Optimization terminated successfully    (Exit mode 0)\n",
      "            Current function value: -0.6989699970182612\n",
      "            Iterations: 6\n",
      "            Function evaluations: 37\n",
      "            Gradient evaluations: 6\n",
      "[0.19996726 0.20003424 0.20004036 0.19994752 0.20001062]\n",
      "Optimization terminated successfully    (Exit mode 0)\n",
      "            Current function value: -0.6814446541048262\n",
      "            Iterations: 8\n",
      "            Function evaluations: 49\n",
      "            Gradient evaluations: 8\n",
      "[0.28825886 0.23536043 0.19220535 0.15647256 0.1277028 ]\n",
      "Optimization terminated successfully    (Exit mode 0)\n",
      "            Current function value: -0.6268737830868084\n",
      "            Iterations: 6\n",
      "            Function evaluations: 38\n",
      "            Gradient evaluations: 6\n",
      "[0.39609245 0.25746368 0.16730467 0.10862981 0.07050939]\n",
      "Optimization terminated successfully    (Exit mode 0)\n",
      "            Current function value: -0.5277827228864135\n",
      "            Iterations: 11\n",
      "            Function evaluations: 72\n",
      "            Gradient evaluations: 11\n",
      "[0.53076331 0.25640831 0.12390194 0.05991793 0.0290085 ]\n",
      "Optimization terminated successfully    (Exit mode 0)\n",
      "            Current function value: -0.3628885862485849\n",
      "            Iterations: 9\n",
      "            Function evaluations: 62\n",
      "            Gradient evaluations: 9\n",
      "[0.71049103 0.20657322 0.06036438 0.01758747 0.00498391]\n",
      "Optimization terminated successfully    (Exit mode 0)\n",
      "            Current function value: -0.7781511617517782\n",
      "            Iterations: 6\n",
      "            Function evaluations: 45\n",
      "            Gradient evaluations: 6\n",
      "[0.16670354 0.16679771 0.16649401 0.16658062 0.16664821 0.16677592]\n",
      "Optimization terminated successfully    (Exit mode 0)\n",
      "            Current function value: -0.7593666072318311\n",
      "            Iterations: 8\n",
      "            Function evaluations: 59\n",
      "            Gradient evaluations: 8\n",
      "[0.24679632 0.20727493 0.17397728 0.14613362 0.1227196  0.10309825]\n",
      "Optimization terminated successfully    (Exit mode 0)\n",
      "            Current function value: -0.7007691312013844\n",
      "            Iterations: 10\n",
      "            Function evaluations: 75\n",
      "            Gradient evaluations: 10\n",
      "[0.34774351 0.23968484 0.16511917 0.11415507 0.07887545 0.05442196]\n",
      "Optimization terminated successfully    (Exit mode 0)\n",
      "            Current function value: -0.5938824447074857\n",
      "            Iterations: 15\n",
      "            Function evaluations: 114\n",
      "            Gradient evaluations: 15\n",
      "[0.47818266 0.25467717 0.13578495 0.07225829 0.03850659 0.02059034]\n",
      "Optimization terminated successfully    (Exit mode 0)\n",
      "            Current function value: -0.41403456379244036\n",
      "            Iterations: 13\n",
      "            Function evaluations: 104\n",
      "            Gradient evaluations: 13\n",
      "[0.66388855 0.22370148 0.0753914  0.02545099 0.00867515 0.00289243]\n",
      "Optimization terminated successfully    (Exit mode 0)\n",
      "            Current function value: -0.845098031626851\n",
      "            Iterations: 6\n",
      "            Function evaluations: 52\n",
      "            Gradient evaluations: 6\n",
      "[0.14282492 0.1428486  0.14291833 0.14285583 0.14286647 0.1428337\n",
      " 0.14285215]\n",
      "Optimization terminated successfully    (Exit mode 0)\n",
      "            Current function value: -0.8253677993046991\n",
      "            Iterations: 7\n",
      "            Function evaluations: 61\n",
      "            Gradient evaluations: 7\n",
      "[0.21583225 0.18509289 0.15893611 0.13640782 0.11706282 0.1004485\n",
      " 0.08621961]\n",
      "Optimization terminated successfully    (Exit mode 0)\n",
      "            Current function value: -0.7637325210689935\n",
      "            Iterations: 11\n",
      "            Function evaluations: 92\n",
      "            Gradient evaluations: 11\n",
      "[0.30960128 0.22351501 0.16151272 0.11657862 0.08418357 0.06066341\n",
      " 0.04394539]\n",
      "Optimization terminated successfully    (Exit mode 0)\n",
      "            Current function value: -0.6508871217924832\n",
      "            Iterations: 17\n",
      "            Function evaluations: 148\n",
      "            Gradient evaluations: 17\n",
      "[0.43480138 0.24996237 0.14332095 0.08230064 0.04707342 0.0270473\n",
      " 0.01549394]\n",
      "Optimization terminated successfully    (Exit mode 0)\n",
      "            Current function value: -0.4592342979857864\n",
      "            Iterations: 13\n",
      "            Function evaluations: 122\n",
      "            Gradient evaluations: 13\n",
      "[0.62257746 0.23539502 0.08899892 0.03390769 0.0125341  0.00477317\n",
      " 0.00181364]\n",
      "Optimization terminated successfully    (Exit mode 0)\n",
      "            Current function value: -0.9030897862094145\n",
      "            Iterations: 12\n",
      "            Function evaluations: 112\n",
      "            Gradient evaluations: 12\n",
      "[0.1249608  0.12479277 0.12510842 0.12518426 0.12507779 0.12499215\n",
      " 0.12502103 0.12486279]\n",
      "Optimization terminated successfully    (Exit mode 0)\n",
      "            Current function value: -0.8826236139145167\n",
      "            Iterations: 17\n",
      "            Function evaluations: 164\n",
      "            Gradient evaluations: 17\n",
      "[0.1917413  0.16744203 0.14609853 0.12746321 0.1112399  0.09716357\n",
      " 0.08476646 0.07408501]\n",
      "Optimization terminated successfully    (Exit mode 0)\n",
      "            Current function value: -0.8186134504858179\n",
      "            Iterations: 19\n",
      "            Function evaluations: 183\n",
      "            Gradient evaluations: 19\n",
      "[0.2791387  0.20880133 0.15633254 0.11703053 0.08781204 0.06555809\n",
      " 0.04888399 0.03644278]\n",
      "Optimization terminated successfully    (Exit mode 0)\n",
      "            Current function value: -0.7010607322724005\n",
      "            Iterations: 13\n",
      "            Function evaluations: 134\n",
      "            Gradient evaluations: 13\n",
      "[0.39912197 0.24274925 0.14768056 0.08984678 0.05517723 0.03313273\n",
      " 0.02006365 0.01222783]\n",
      "Optimization terminated successfully    (Exit mode 0)\n",
      "            Current function value: -0.4998263508666497\n",
      "            Iterations: 15\n",
      "            Function evaluations: 151\n",
      "            Gradient evaluations: 15\n",
      "[0.58642191 0.24278404 0.10060706 0.04156036 0.01720501 0.00727144\n",
      " 0.00290776 0.00124242]\n",
      "Optimization terminated successfully    (Exit mode 0)\n",
      "            Current function value: -0.954242087924216\n",
      "            Iterations: 6\n",
      "            Function evaluations: 65\n",
      "            Gradient evaluations: 6\n",
      "[0.11125373 0.11085752 0.11118679 0.11132116 0.11084864 0.11115232\n",
      " 0.11117176 0.11104593 0.11116215]\n",
      "Optimization terminated successfully    (Exit mode 0)\n",
      "            Current function value: -0.9331868574372111\n",
      "            Iterations: 9\n",
      "            Function evaluations: 98\n",
      "            Gradient evaluations: 9\n",
      "[0.17257511 0.15267883 0.13510383 0.1195066  0.10575068 0.09356324\n",
      " 0.08278129 0.07323634 0.06480408]\n",
      "Optimization terminated successfully    (Exit mode 0)\n",
      "            Current function value: -0.8672699620099558\n",
      "            Iterations: 9\n",
      "            Function evaluations: 99\n",
      "            Gradient evaluations: 9\n",
      "[0.25434091 0.19570273 0.1507145  0.11610653 0.08933911 0.0688775\n",
      " 0.05288695 0.04077114 0.03126063]\n",
      "Optimization terminated successfully    (Exit mode 0)\n",
      "            Current function value: -0.7459035825536094\n",
      "            Iterations: 16\n",
      "            Function evaluations: 175\n",
      "            Gradient evaluations: 16\n",
      "[0.36864039 0.23514993 0.14998495 0.09566476 0.061028   0.03909737\n",
      " 0.0246876  0.01581461 0.0099324 ]\n",
      "Optimization terminated successfully    (Exit mode 0)\n",
      "            Current function value: -0.5367180703004506\n",
      "            Iterations: 14\n",
      "            Function evaluations: 159\n",
      "            Gradient evaluations: 14\n",
      "[0.55387361 0.24759722 0.11010492 0.04942798 0.02199899 0.00979408\n",
      " 0.00438083 0.0019213  0.00090107]\n",
      "Optimization terminated successfully    (Exit mode 0)\n",
      "            Current function value: -0.9999998934744059\n",
      "            Iterations: 6\n",
      "            Function evaluations: 70\n",
      "            Gradient evaluations: 6\n",
      "[0.09999138 0.10009426 0.09998314 0.09991074 0.09993416 0.10009814\n",
      " 0.09991239 0.1000988  0.09997894 0.09999805]\n",
      "Optimization terminated successfully    (Exit mode 0)\n",
      "            Current function value: -0.9784618445135005\n",
      "            Iterations: 8\n",
      "            Function evaluations: 95\n",
      "            Gradient evaluations: 8\n",
      "[0.15697947 0.14030728 0.12549277 0.11237992 0.10057782 0.08990298\n",
      " 0.08038967 0.07196812 0.06439131 0.05761065]\n",
      "Optimization terminated successfully    (Exit mode 0)\n",
      "            Current function value: -0.9109790438838617\n",
      "            Iterations: 11\n",
      "            Function evaluations: 131\n",
      "            Gradient evaluations: 11\n",
      "[0.23347051 0.18409593 0.14520652 0.11405178 0.09002615 0.07096579\n",
      " 0.05605312 0.04423296 0.03462245 0.02727479]\n",
      "Optimization terminated successfully    (Exit mode 0)\n",
      "            Current function value: -0.7864591563415266\n",
      "            Iterations: 21\n",
      "            Function evaluations: 247\n",
      "            Gradient evaluations: 21\n",
      "[0.34281757 0.22704263 0.15059299 0.0997863  0.06616824 0.04398714\n",
      " 0.02905226 0.01936391 0.01275778 0.00843118]\n",
      "Optimization terminated successfully    (Exit mode 0)\n",
      "            Current function value: -0.5705620624839745\n",
      "            Iterations: 16\n",
      "            Function evaluations: 205\n",
      "            Gradient evaluations: 16\n",
      "[0.52504793 0.24947119 0.11854867 0.05636855 0.02690143 0.01276626\n",
      " 0.00603754 0.00285721 0.00134788 0.00065333]\n"
     ]
    }
   ],
   "source": [
    "#compute the weights g for ordered weighted average aggregation\n",
    "num_class = 10\n",
    "for j in range(2,(num_class+1)):\n",
    "    num_weights = j\n",
    "    ini_weights = np.asarray(np.random.rand(num_weights))\n",
    "\n",
    "    name='weight'+str(j)\n",
    "    locals()['weight'+str(j)]= np.zeros([5, j])\n",
    "\n",
    "    for i in range(5):\n",
    "        tol = 0.5 + i * 0.1\n",
    "\n",
    "        cons = ({'type': 'eq', 'fun' : lambda x: cons1(x)-1},\n",
    "                {'type': 'eq', 'fun' : lambda x: cons2(x)-tol},\n",
    "                {'type': 'ineq', 'fun' : lambda x: x-0.00000001}\n",
    "                )\n",
    "\n",
    "        res = minimize(func, ini_weights, method='SLSQP', options={'disp': True}, constraints=cons)\n",
    "        locals()['weight'+str(j)][i] = res.x\n",
    "        print (res.x)"
   ],
   "metadata": {
    "collapsed": false,
    "pycharm": {
     "name": "#%%\n"
    }
   }
  },
  {
   "cell_type": "code",
   "execution_count": 11,
   "outputs": [],
   "source": [
    "#function for power set\n",
    "def PowerSetsBinary(items):\n",
    "    #generate all combination of N items\n",
    "    N = len(items)\n",
    "    #enumerate the 2**N possible combinations\n",
    "    set_all=[]\n",
    "    for i in range(2**N):\n",
    "        combo = []\n",
    "        for j in range(N):\n",
    "            if(i >> j ) % 2 == 1:\n",
    "                combo.append(items[j])\n",
    "        set_all.append(combo)\n",
    "    return set_all"
   ],
   "metadata": {
    "collapsed": false,
    "pycharm": {
     "name": "#%%\n"
    }
   }
  },
  {
   "cell_type": "code",
   "execution_count": 12,
   "outputs": [
    {
     "name": "stdout",
     "output_type": "stream",
     "text": [
      "[0, 1, 2, 3, 4, 5, 6, 7, 8, 9]\n",
      "[[0], [0, 1], [0, 1, 2], [0, 1, 2, 3], [0, 1, 2, 3, 4], [0, 1, 2, 3, 4, 5], [0, 1, 2, 3, 4, 5, 6], [0, 1, 2, 3, 4, 5, 6, 7], [0, 1, 2, 3, 4, 5, 6, 7, 8], [0, 1, 2, 3, 4, 5, 6, 7, 8, 9], [0, 1, 2, 3, 4, 5, 6, 7, 9], [0, 1, 2, 3, 4, 5, 6, 8], [0, 1, 2, 3, 4, 5, 6, 8, 9], [0, 1, 2, 3, 4, 5, 6, 9], [0, 1, 2, 3, 4, 5, 7], [0, 1, 2, 3, 4, 5, 7, 8], [0, 1, 2, 3, 4, 5, 7, 8, 9], [0, 1, 2, 3, 4, 5, 7, 9], [0, 1, 2, 3, 4, 5, 8], [0, 1, 2, 3, 4, 5, 8, 9], [0, 1, 2, 3, 4, 5, 9], [0, 1, 2, 3, 4, 6], [0, 1, 2, 3, 4, 6, 7], [0, 1, 2, 3, 4, 6, 7, 8], [0, 1, 2, 3, 4, 6, 7, 8, 9], [0, 1, 2, 3, 4, 6, 7, 9], [0, 1, 2, 3, 4, 6, 8], [0, 1, 2, 3, 4, 6, 8, 9], [0, 1, 2, 3, 4, 6, 9], [0, 1, 2, 3, 4, 7], [0, 1, 2, 3, 4, 7, 8], [0, 1, 2, 3, 4, 7, 8, 9], [0, 1, 2, 3, 4, 7, 9], [0, 1, 2, 3, 4, 8], [0, 1, 2, 3, 4, 8, 9], [0, 1, 2, 3, 4, 9], [0, 1, 2, 3, 5], [0, 1, 2, 3, 5, 6], [0, 1, 2, 3, 5, 6, 7], [0, 1, 2, 3, 5, 6, 7, 8], [0, 1, 2, 3, 5, 6, 7, 8, 9], [0, 1, 2, 3, 5, 6, 7, 9], [0, 1, 2, 3, 5, 6, 8], [0, 1, 2, 3, 5, 6, 8, 9], [0, 1, 2, 3, 5, 6, 9], [0, 1, 2, 3, 5, 7], [0, 1, 2, 3, 5, 7, 8], [0, 1, 2, 3, 5, 7, 8, 9], [0, 1, 2, 3, 5, 7, 9], [0, 1, 2, 3, 5, 8], [0, 1, 2, 3, 5, 8, 9], [0, 1, 2, 3, 5, 9], [0, 1, 2, 3, 6], [0, 1, 2, 3, 6, 7], [0, 1, 2, 3, 6, 7, 8], [0, 1, 2, 3, 6, 7, 8, 9], [0, 1, 2, 3, 6, 7, 9], [0, 1, 2, 3, 6, 8], [0, 1, 2, 3, 6, 8, 9], [0, 1, 2, 3, 6, 9], [0, 1, 2, 3, 7], [0, 1, 2, 3, 7, 8], [0, 1, 2, 3, 7, 8, 9], [0, 1, 2, 3, 7, 9], [0, 1, 2, 3, 8], [0, 1, 2, 3, 8, 9], [0, 1, 2, 3, 9], [0, 1, 2, 4], [0, 1, 2, 4, 5], [0, 1, 2, 4, 5, 6], [0, 1, 2, 4, 5, 6, 7], [0, 1, 2, 4, 5, 6, 7, 8], [0, 1, 2, 4, 5, 6, 7, 8, 9], [0, 1, 2, 4, 5, 6, 7, 9], [0, 1, 2, 4, 5, 6, 8], [0, 1, 2, 4, 5, 6, 8, 9], [0, 1, 2, 4, 5, 6, 9], [0, 1, 2, 4, 5, 7], [0, 1, 2, 4, 5, 7, 8], [0, 1, 2, 4, 5, 7, 8, 9], [0, 1, 2, 4, 5, 7, 9], [0, 1, 2, 4, 5, 8], [0, 1, 2, 4, 5, 8, 9], [0, 1, 2, 4, 5, 9], [0, 1, 2, 4, 6], [0, 1, 2, 4, 6, 7], [0, 1, 2, 4, 6, 7, 8], [0, 1, 2, 4, 6, 7, 8, 9], [0, 1, 2, 4, 6, 7, 9], [0, 1, 2, 4, 6, 8], [0, 1, 2, 4, 6, 8, 9], [0, 1, 2, 4, 6, 9], [0, 1, 2, 4, 7], [0, 1, 2, 4, 7, 8], [0, 1, 2, 4, 7, 8, 9], [0, 1, 2, 4, 7, 9], [0, 1, 2, 4, 8], [0, 1, 2, 4, 8, 9], [0, 1, 2, 4, 9], [0, 1, 2, 5], [0, 1, 2, 5, 6], [0, 1, 2, 5, 6, 7], [0, 1, 2, 5, 6, 7, 8], [0, 1, 2, 5, 6, 7, 8, 9], [0, 1, 2, 5, 6, 7, 9], [0, 1, 2, 5, 6, 8], [0, 1, 2, 5, 6, 8, 9], [0, 1, 2, 5, 6, 9], [0, 1, 2, 5, 7], [0, 1, 2, 5, 7, 8], [0, 1, 2, 5, 7, 8, 9], [0, 1, 2, 5, 7, 9], [0, 1, 2, 5, 8], [0, 1, 2, 5, 8, 9], [0, 1, 2, 5, 9], [0, 1, 2, 6], [0, 1, 2, 6, 7], [0, 1, 2, 6, 7, 8], [0, 1, 2, 6, 7, 8, 9], [0, 1, 2, 6, 7, 9], [0, 1, 2, 6, 8], [0, 1, 2, 6, 8, 9], [0, 1, 2, 6, 9], [0, 1, 2, 7], [0, 1, 2, 7, 8], [0, 1, 2, 7, 8, 9], [0, 1, 2, 7, 9], [0, 1, 2, 8], [0, 1, 2, 8, 9], [0, 1, 2, 9], [0, 1, 3], [0, 1, 3, 4], [0, 1, 3, 4, 5], [0, 1, 3, 4, 5, 6], [0, 1, 3, 4, 5, 6, 7], [0, 1, 3, 4, 5, 6, 7, 8], [0, 1, 3, 4, 5, 6, 7, 8, 9], [0, 1, 3, 4, 5, 6, 7, 9], [0, 1, 3, 4, 5, 6, 8], [0, 1, 3, 4, 5, 6, 8, 9], [0, 1, 3, 4, 5, 6, 9], [0, 1, 3, 4, 5, 7], [0, 1, 3, 4, 5, 7, 8], [0, 1, 3, 4, 5, 7, 8, 9], [0, 1, 3, 4, 5, 7, 9], [0, 1, 3, 4, 5, 8], [0, 1, 3, 4, 5, 8, 9], [0, 1, 3, 4, 5, 9], [0, 1, 3, 4, 6], [0, 1, 3, 4, 6, 7], [0, 1, 3, 4, 6, 7, 8], [0, 1, 3, 4, 6, 7, 8, 9], [0, 1, 3, 4, 6, 7, 9], [0, 1, 3, 4, 6, 8], [0, 1, 3, 4, 6, 8, 9], [0, 1, 3, 4, 6, 9], [0, 1, 3, 4, 7], [0, 1, 3, 4, 7, 8], [0, 1, 3, 4, 7, 8, 9], [0, 1, 3, 4, 7, 9], [0, 1, 3, 4, 8], [0, 1, 3, 4, 8, 9], [0, 1, 3, 4, 9], [0, 1, 3, 5], [0, 1, 3, 5, 6], [0, 1, 3, 5, 6, 7], [0, 1, 3, 5, 6, 7, 8], [0, 1, 3, 5, 6, 7, 8, 9], [0, 1, 3, 5, 6, 7, 9], [0, 1, 3, 5, 6, 8], [0, 1, 3, 5, 6, 8, 9], [0, 1, 3, 5, 6, 9], [0, 1, 3, 5, 7], [0, 1, 3, 5, 7, 8], [0, 1, 3, 5, 7, 8, 9], [0, 1, 3, 5, 7, 9], [0, 1, 3, 5, 8], [0, 1, 3, 5, 8, 9], [0, 1, 3, 5, 9], [0, 1, 3, 6], [0, 1, 3, 6, 7], [0, 1, 3, 6, 7, 8], [0, 1, 3, 6, 7, 8, 9], [0, 1, 3, 6, 7, 9], [0, 1, 3, 6, 8], [0, 1, 3, 6, 8, 9], [0, 1, 3, 6, 9], [0, 1, 3, 7], [0, 1, 3, 7, 8], [0, 1, 3, 7, 8, 9], [0, 1, 3, 7, 9], [0, 1, 3, 8], [0, 1, 3, 8, 9], [0, 1, 3, 9], [0, 1, 4], [0, 1, 4, 5], [0, 1, 4, 5, 6], [0, 1, 4, 5, 6, 7], [0, 1, 4, 5, 6, 7, 8], [0, 1, 4, 5, 6, 7, 8, 9], [0, 1, 4, 5, 6, 7, 9], [0, 1, 4, 5, 6, 8], [0, 1, 4, 5, 6, 8, 9], [0, 1, 4, 5, 6, 9], [0, 1, 4, 5, 7], [0, 1, 4, 5, 7, 8], [0, 1, 4, 5, 7, 8, 9], [0, 1, 4, 5, 7, 9], [0, 1, 4, 5, 8], [0, 1, 4, 5, 8, 9], [0, 1, 4, 5, 9], [0, 1, 4, 6], [0, 1, 4, 6, 7], [0, 1, 4, 6, 7, 8], [0, 1, 4, 6, 7, 8, 9], [0, 1, 4, 6, 7, 9], [0, 1, 4, 6, 8], [0, 1, 4, 6, 8, 9], [0, 1, 4, 6, 9], [0, 1, 4, 7], [0, 1, 4, 7, 8], [0, 1, 4, 7, 8, 9], [0, 1, 4, 7, 9], [0, 1, 4, 8], [0, 1, 4, 8, 9], [0, 1, 4, 9], [0, 1, 5], [0, 1, 5, 6], [0, 1, 5, 6, 7], [0, 1, 5, 6, 7, 8], [0, 1, 5, 6, 7, 8, 9], [0, 1, 5, 6, 7, 9], [0, 1, 5, 6, 8], [0, 1, 5, 6, 8, 9], [0, 1, 5, 6, 9], [0, 1, 5, 7], [0, 1, 5, 7, 8], [0, 1, 5, 7, 8, 9], [0, 1, 5, 7, 9], [0, 1, 5, 8], [0, 1, 5, 8, 9], [0, 1, 5, 9], [0, 1, 6], [0, 1, 6, 7], [0, 1, 6, 7, 8], [0, 1, 6, 7, 8, 9], [0, 1, 6, 7, 9], [0, 1, 6, 8], [0, 1, 6, 8, 9], [0, 1, 6, 9], [0, 1, 7], [0, 1, 7, 8], [0, 1, 7, 8, 9], [0, 1, 7, 9], [0, 1, 8], [0, 1, 8, 9], [0, 1, 9], [0, 2], [0, 2, 3], [0, 2, 3, 4], [0, 2, 3, 4, 5], [0, 2, 3, 4, 5, 6], [0, 2, 3, 4, 5, 6, 7], [0, 2, 3, 4, 5, 6, 7, 8], [0, 2, 3, 4, 5, 6, 7, 8, 9], [0, 2, 3, 4, 5, 6, 7, 9], [0, 2, 3, 4, 5, 6, 8], [0, 2, 3, 4, 5, 6, 8, 9], [0, 2, 3, 4, 5, 6, 9], [0, 2, 3, 4, 5, 7], [0, 2, 3, 4, 5, 7, 8], [0, 2, 3, 4, 5, 7, 8, 9], [0, 2, 3, 4, 5, 7, 9], [0, 2, 3, 4, 5, 8], [0, 2, 3, 4, 5, 8, 9], [0, 2, 3, 4, 5, 9], [0, 2, 3, 4, 6], [0, 2, 3, 4, 6, 7], [0, 2, 3, 4, 6, 7, 8], [0, 2, 3, 4, 6, 7, 8, 9], [0, 2, 3, 4, 6, 7, 9], [0, 2, 3, 4, 6, 8], [0, 2, 3, 4, 6, 8, 9], [0, 2, 3, 4, 6, 9], [0, 2, 3, 4, 7], [0, 2, 3, 4, 7, 8], [0, 2, 3, 4, 7, 8, 9], [0, 2, 3, 4, 7, 9], [0, 2, 3, 4, 8], [0, 2, 3, 4, 8, 9], [0, 2, 3, 4, 9], [0, 2, 3, 5], [0, 2, 3, 5, 6], [0, 2, 3, 5, 6, 7], [0, 2, 3, 5, 6, 7, 8], [0, 2, 3, 5, 6, 7, 8, 9], [0, 2, 3, 5, 6, 7, 9], [0, 2, 3, 5, 6, 8], [0, 2, 3, 5, 6, 8, 9], [0, 2, 3, 5, 6, 9], [0, 2, 3, 5, 7], [0, 2, 3, 5, 7, 8], [0, 2, 3, 5, 7, 8, 9], [0, 2, 3, 5, 7, 9], [0, 2, 3, 5, 8], [0, 2, 3, 5, 8, 9], [0, 2, 3, 5, 9], [0, 2, 3, 6], [0, 2, 3, 6, 7], [0, 2, 3, 6, 7, 8], [0, 2, 3, 6, 7, 8, 9], [0, 2, 3, 6, 7, 9], [0, 2, 3, 6, 8], [0, 2, 3, 6, 8, 9], [0, 2, 3, 6, 9], [0, 2, 3, 7], [0, 2, 3, 7, 8], [0, 2, 3, 7, 8, 9], [0, 2, 3, 7, 9], [0, 2, 3, 8], [0, 2, 3, 8, 9], [0, 2, 3, 9], [0, 2, 4], [0, 2, 4, 5], [0, 2, 4, 5, 6], [0, 2, 4, 5, 6, 7], [0, 2, 4, 5, 6, 7, 8], [0, 2, 4, 5, 6, 7, 8, 9], [0, 2, 4, 5, 6, 7, 9], [0, 2, 4, 5, 6, 8], [0, 2, 4, 5, 6, 8, 9], [0, 2, 4, 5, 6, 9], [0, 2, 4, 5, 7], [0, 2, 4, 5, 7, 8], [0, 2, 4, 5, 7, 8, 9], [0, 2, 4, 5, 7, 9], [0, 2, 4, 5, 8], [0, 2, 4, 5, 8, 9], [0, 2, 4, 5, 9], [0, 2, 4, 6], [0, 2, 4, 6, 7], [0, 2, 4, 6, 7, 8], [0, 2, 4, 6, 7, 8, 9], [0, 2, 4, 6, 7, 9], [0, 2, 4, 6, 8], [0, 2, 4, 6, 8, 9], [0, 2, 4, 6, 9], [0, 2, 4, 7], [0, 2, 4, 7, 8], [0, 2, 4, 7, 8, 9], [0, 2, 4, 7, 9], [0, 2, 4, 8], [0, 2, 4, 8, 9], [0, 2, 4, 9], [0, 2, 5], [0, 2, 5, 6], [0, 2, 5, 6, 7], [0, 2, 5, 6, 7, 8], [0, 2, 5, 6, 7, 8, 9], [0, 2, 5, 6, 7, 9], [0, 2, 5, 6, 8], [0, 2, 5, 6, 8, 9], [0, 2, 5, 6, 9], [0, 2, 5, 7], [0, 2, 5, 7, 8], [0, 2, 5, 7, 8, 9], [0, 2, 5, 7, 9], [0, 2, 5, 8], [0, 2, 5, 8, 9], [0, 2, 5, 9], [0, 2, 6], [0, 2, 6, 7], [0, 2, 6, 7, 8], [0, 2, 6, 7, 8, 9], [0, 2, 6, 7, 9], [0, 2, 6, 8], [0, 2, 6, 8, 9], [0, 2, 6, 9], [0, 2, 7], [0, 2, 7, 8], [0, 2, 7, 8, 9], [0, 2, 7, 9], [0, 2, 8], [0, 2, 8, 9], [0, 2, 9], [0, 3], [0, 3, 4], [0, 3, 4, 5], [0, 3, 4, 5, 6], [0, 3, 4, 5, 6, 7], [0, 3, 4, 5, 6, 7, 8], [0, 3, 4, 5, 6, 7, 8, 9], [0, 3, 4, 5, 6, 7, 9], [0, 3, 4, 5, 6, 8], [0, 3, 4, 5, 6, 8, 9], [0, 3, 4, 5, 6, 9], [0, 3, 4, 5, 7], [0, 3, 4, 5, 7, 8], [0, 3, 4, 5, 7, 8, 9], [0, 3, 4, 5, 7, 9], [0, 3, 4, 5, 8], [0, 3, 4, 5, 8, 9], [0, 3, 4, 5, 9], [0, 3, 4, 6], [0, 3, 4, 6, 7], [0, 3, 4, 6, 7, 8], [0, 3, 4, 6, 7, 8, 9], [0, 3, 4, 6, 7, 9], [0, 3, 4, 6, 8], [0, 3, 4, 6, 8, 9], [0, 3, 4, 6, 9], [0, 3, 4, 7], [0, 3, 4, 7, 8], [0, 3, 4, 7, 8, 9], [0, 3, 4, 7, 9], [0, 3, 4, 8], [0, 3, 4, 8, 9], [0, 3, 4, 9], [0, 3, 5], [0, 3, 5, 6], [0, 3, 5, 6, 7], [0, 3, 5, 6, 7, 8], [0, 3, 5, 6, 7, 8, 9], [0, 3, 5, 6, 7, 9], [0, 3, 5, 6, 8], [0, 3, 5, 6, 8, 9], [0, 3, 5, 6, 9], [0, 3, 5, 7], [0, 3, 5, 7, 8], [0, 3, 5, 7, 8, 9], [0, 3, 5, 7, 9], [0, 3, 5, 8], [0, 3, 5, 8, 9], [0, 3, 5, 9], [0, 3, 6], [0, 3, 6, 7], [0, 3, 6, 7, 8], [0, 3, 6, 7, 8, 9], [0, 3, 6, 7, 9], [0, 3, 6, 8], [0, 3, 6, 8, 9], [0, 3, 6, 9], [0, 3, 7], [0, 3, 7, 8], [0, 3, 7, 8, 9], [0, 3, 7, 9], [0, 3, 8], [0, 3, 8, 9], [0, 3, 9], [0, 4], [0, 4, 5], [0, 4, 5, 6], [0, 4, 5, 6, 7], [0, 4, 5, 6, 7, 8], [0, 4, 5, 6, 7, 8, 9], [0, 4, 5, 6, 7, 9], [0, 4, 5, 6, 8], [0, 4, 5, 6, 8, 9], [0, 4, 5, 6, 9], [0, 4, 5, 7], [0, 4, 5, 7, 8], [0, 4, 5, 7, 8, 9], [0, 4, 5, 7, 9], [0, 4, 5, 8], [0, 4, 5, 8, 9], [0, 4, 5, 9], [0, 4, 6], [0, 4, 6, 7], [0, 4, 6, 7, 8], [0, 4, 6, 7, 8, 9], [0, 4, 6, 7, 9], [0, 4, 6, 8], [0, 4, 6, 8, 9], [0, 4, 6, 9], [0, 4, 7], [0, 4, 7, 8], [0, 4, 7, 8, 9], [0, 4, 7, 9], [0, 4, 8], [0, 4, 8, 9], [0, 4, 9], [0, 5], [0, 5, 6], [0, 5, 6, 7], [0, 5, 6, 7, 8], [0, 5, 6, 7, 8, 9], [0, 5, 6, 7, 9], [0, 5, 6, 8], [0, 5, 6, 8, 9], [0, 5, 6, 9], [0, 5, 7], [0, 5, 7, 8], [0, 5, 7, 8, 9], [0, 5, 7, 9], [0, 5, 8], [0, 5, 8, 9], [0, 5, 9], [0, 6], [0, 6, 7], [0, 6, 7, 8], [0, 6, 7, 8, 9], [0, 6, 7, 9], [0, 6, 8], [0, 6, 8, 9], [0, 6, 9], [0, 7], [0, 7, 8], [0, 7, 8, 9], [0, 7, 9], [0, 8], [0, 8, 9], [0, 9], [1], [1, 2], [1, 2, 3], [1, 2, 3, 4], [1, 2, 3, 4, 5], [1, 2, 3, 4, 5, 6], [1, 2, 3, 4, 5, 6, 7], [1, 2, 3, 4, 5, 6, 7, 8], [1, 2, 3, 4, 5, 6, 7, 8, 9], [1, 2, 3, 4, 5, 6, 7, 9], [1, 2, 3, 4, 5, 6, 8], [1, 2, 3, 4, 5, 6, 8, 9], [1, 2, 3, 4, 5, 6, 9], [1, 2, 3, 4, 5, 7], [1, 2, 3, 4, 5, 7, 8], [1, 2, 3, 4, 5, 7, 8, 9], [1, 2, 3, 4, 5, 7, 9], [1, 2, 3, 4, 5, 8], [1, 2, 3, 4, 5, 8, 9], [1, 2, 3, 4, 5, 9], [1, 2, 3, 4, 6], [1, 2, 3, 4, 6, 7], [1, 2, 3, 4, 6, 7, 8], [1, 2, 3, 4, 6, 7, 8, 9], [1, 2, 3, 4, 6, 7, 9], [1, 2, 3, 4, 6, 8], [1, 2, 3, 4, 6, 8, 9], [1, 2, 3, 4, 6, 9], [1, 2, 3, 4, 7], [1, 2, 3, 4, 7, 8], [1, 2, 3, 4, 7, 8, 9], [1, 2, 3, 4, 7, 9], [1, 2, 3, 4, 8], [1, 2, 3, 4, 8, 9], [1, 2, 3, 4, 9], [1, 2, 3, 5], [1, 2, 3, 5, 6], [1, 2, 3, 5, 6, 7], [1, 2, 3, 5, 6, 7, 8], [1, 2, 3, 5, 6, 7, 8, 9], [1, 2, 3, 5, 6, 7, 9], [1, 2, 3, 5, 6, 8], [1, 2, 3, 5, 6, 8, 9], [1, 2, 3, 5, 6, 9], [1, 2, 3, 5, 7], [1, 2, 3, 5, 7, 8], [1, 2, 3, 5, 7, 8, 9], [1, 2, 3, 5, 7, 9], [1, 2, 3, 5, 8], [1, 2, 3, 5, 8, 9], [1, 2, 3, 5, 9], [1, 2, 3, 6], [1, 2, 3, 6, 7], [1, 2, 3, 6, 7, 8], [1, 2, 3, 6, 7, 8, 9], [1, 2, 3, 6, 7, 9], [1, 2, 3, 6, 8], [1, 2, 3, 6, 8, 9], [1, 2, 3, 6, 9], [1, 2, 3, 7], [1, 2, 3, 7, 8], [1, 2, 3, 7, 8, 9], [1, 2, 3, 7, 9], [1, 2, 3, 8], [1, 2, 3, 8, 9], [1, 2, 3, 9], [1, 2, 4], [1, 2, 4, 5], [1, 2, 4, 5, 6], [1, 2, 4, 5, 6, 7], [1, 2, 4, 5, 6, 7, 8], [1, 2, 4, 5, 6, 7, 8, 9], [1, 2, 4, 5, 6, 7, 9], [1, 2, 4, 5, 6, 8], [1, 2, 4, 5, 6, 8, 9], [1, 2, 4, 5, 6, 9], [1, 2, 4, 5, 7], [1, 2, 4, 5, 7, 8], [1, 2, 4, 5, 7, 8, 9], [1, 2, 4, 5, 7, 9], [1, 2, 4, 5, 8], [1, 2, 4, 5, 8, 9], [1, 2, 4, 5, 9], [1, 2, 4, 6], [1, 2, 4, 6, 7], [1, 2, 4, 6, 7, 8], [1, 2, 4, 6, 7, 8, 9], [1, 2, 4, 6, 7, 9], [1, 2, 4, 6, 8], [1, 2, 4, 6, 8, 9], [1, 2, 4, 6, 9], [1, 2, 4, 7], [1, 2, 4, 7, 8], [1, 2, 4, 7, 8, 9], [1, 2, 4, 7, 9], [1, 2, 4, 8], [1, 2, 4, 8, 9], [1, 2, 4, 9], [1, 2, 5], [1, 2, 5, 6], [1, 2, 5, 6, 7], [1, 2, 5, 6, 7, 8], [1, 2, 5, 6, 7, 8, 9], [1, 2, 5, 6, 7, 9], [1, 2, 5, 6, 8], [1, 2, 5, 6, 8, 9], [1, 2, 5, 6, 9], [1, 2, 5, 7], [1, 2, 5, 7, 8], [1, 2, 5, 7, 8, 9], [1, 2, 5, 7, 9], [1, 2, 5, 8], [1, 2, 5, 8, 9], [1, 2, 5, 9], [1, 2, 6], [1, 2, 6, 7], [1, 2, 6, 7, 8], [1, 2, 6, 7, 8, 9], [1, 2, 6, 7, 9], [1, 2, 6, 8], [1, 2, 6, 8, 9], [1, 2, 6, 9], [1, 2, 7], [1, 2, 7, 8], [1, 2, 7, 8, 9], [1, 2, 7, 9], [1, 2, 8], [1, 2, 8, 9], [1, 2, 9], [1, 3], [1, 3, 4], [1, 3, 4, 5], [1, 3, 4, 5, 6], [1, 3, 4, 5, 6, 7], [1, 3, 4, 5, 6, 7, 8], [1, 3, 4, 5, 6, 7, 8, 9], [1, 3, 4, 5, 6, 7, 9], [1, 3, 4, 5, 6, 8], [1, 3, 4, 5, 6, 8, 9], [1, 3, 4, 5, 6, 9], [1, 3, 4, 5, 7], [1, 3, 4, 5, 7, 8], [1, 3, 4, 5, 7, 8, 9], [1, 3, 4, 5, 7, 9], [1, 3, 4, 5, 8], [1, 3, 4, 5, 8, 9], [1, 3, 4, 5, 9], [1, 3, 4, 6], [1, 3, 4, 6, 7], [1, 3, 4, 6, 7, 8], [1, 3, 4, 6, 7, 8, 9], [1, 3, 4, 6, 7, 9], [1, 3, 4, 6, 8], [1, 3, 4, 6, 8, 9], [1, 3, 4, 6, 9], [1, 3, 4, 7], [1, 3, 4, 7, 8], [1, 3, 4, 7, 8, 9], [1, 3, 4, 7, 9], [1, 3, 4, 8], [1, 3, 4, 8, 9], [1, 3, 4, 9], [1, 3, 5], [1, 3, 5, 6], [1, 3, 5, 6, 7], [1, 3, 5, 6, 7, 8], [1, 3, 5, 6, 7, 8, 9], [1, 3, 5, 6, 7, 9], [1, 3, 5, 6, 8], [1, 3, 5, 6, 8, 9], [1, 3, 5, 6, 9], [1, 3, 5, 7], [1, 3, 5, 7, 8], [1, 3, 5, 7, 8, 9], [1, 3, 5, 7, 9], [1, 3, 5, 8], [1, 3, 5, 8, 9], [1, 3, 5, 9], [1, 3, 6], [1, 3, 6, 7], [1, 3, 6, 7, 8], [1, 3, 6, 7, 8, 9], [1, 3, 6, 7, 9], [1, 3, 6, 8], [1, 3, 6, 8, 9], [1, 3, 6, 9], [1, 3, 7], [1, 3, 7, 8], [1, 3, 7, 8, 9], [1, 3, 7, 9], [1, 3, 8], [1, 3, 8, 9], [1, 3, 9], [1, 4], [1, 4, 5], [1, 4, 5, 6], [1, 4, 5, 6, 7], [1, 4, 5, 6, 7, 8], [1, 4, 5, 6, 7, 8, 9], [1, 4, 5, 6, 7, 9], [1, 4, 5, 6, 8], [1, 4, 5, 6, 8, 9], [1, 4, 5, 6, 9], [1, 4, 5, 7], [1, 4, 5, 7, 8], [1, 4, 5, 7, 8, 9], [1, 4, 5, 7, 9], [1, 4, 5, 8], [1, 4, 5, 8, 9], [1, 4, 5, 9], [1, 4, 6], [1, 4, 6, 7], [1, 4, 6, 7, 8], [1, 4, 6, 7, 8, 9], [1, 4, 6, 7, 9], [1, 4, 6, 8], [1, 4, 6, 8, 9], [1, 4, 6, 9], [1, 4, 7], [1, 4, 7, 8], [1, 4, 7, 8, 9], [1, 4, 7, 9], [1, 4, 8], [1, 4, 8, 9], [1, 4, 9], [1, 5], [1, 5, 6], [1, 5, 6, 7], [1, 5, 6, 7, 8], [1, 5, 6, 7, 8, 9], [1, 5, 6, 7, 9], [1, 5, 6, 8], [1, 5, 6, 8, 9], [1, 5, 6, 9], [1, 5, 7], [1, 5, 7, 8], [1, 5, 7, 8, 9], [1, 5, 7, 9], [1, 5, 8], [1, 5, 8, 9], [1, 5, 9], [1, 6], [1, 6, 7], [1, 6, 7, 8], [1, 6, 7, 8, 9], [1, 6, 7, 9], [1, 6, 8], [1, 6, 8, 9], [1, 6, 9], [1, 7], [1, 7, 8], [1, 7, 8, 9], [1, 7, 9], [1, 8], [1, 8, 9], [1, 9], [2], [2, 3], [2, 3, 4], [2, 3, 4, 5], [2, 3, 4, 5, 6], [2, 3, 4, 5, 6, 7], [2, 3, 4, 5, 6, 7, 8], [2, 3, 4, 5, 6, 7, 8, 9], [2, 3, 4, 5, 6, 7, 9], [2, 3, 4, 5, 6, 8], [2, 3, 4, 5, 6, 8, 9], [2, 3, 4, 5, 6, 9], [2, 3, 4, 5, 7], [2, 3, 4, 5, 7, 8], [2, 3, 4, 5, 7, 8, 9], [2, 3, 4, 5, 7, 9], [2, 3, 4, 5, 8], [2, 3, 4, 5, 8, 9], [2, 3, 4, 5, 9], [2, 3, 4, 6], [2, 3, 4, 6, 7], [2, 3, 4, 6, 7, 8], [2, 3, 4, 6, 7, 8, 9], [2, 3, 4, 6, 7, 9], [2, 3, 4, 6, 8], [2, 3, 4, 6, 8, 9], [2, 3, 4, 6, 9], [2, 3, 4, 7], [2, 3, 4, 7, 8], [2, 3, 4, 7, 8, 9], [2, 3, 4, 7, 9], [2, 3, 4, 8], [2, 3, 4, 8, 9], [2, 3, 4, 9], [2, 3, 5], [2, 3, 5, 6], [2, 3, 5, 6, 7], [2, 3, 5, 6, 7, 8], [2, 3, 5, 6, 7, 8, 9], [2, 3, 5, 6, 7, 9], [2, 3, 5, 6, 8], [2, 3, 5, 6, 8, 9], [2, 3, 5, 6, 9], [2, 3, 5, 7], [2, 3, 5, 7, 8], [2, 3, 5, 7, 8, 9], [2, 3, 5, 7, 9], [2, 3, 5, 8], [2, 3, 5, 8, 9], [2, 3, 5, 9], [2, 3, 6], [2, 3, 6, 7], [2, 3, 6, 7, 8], [2, 3, 6, 7, 8, 9], [2, 3, 6, 7, 9], [2, 3, 6, 8], [2, 3, 6, 8, 9], [2, 3, 6, 9], [2, 3, 7], [2, 3, 7, 8], [2, 3, 7, 8, 9], [2, 3, 7, 9], [2, 3, 8], [2, 3, 8, 9], [2, 3, 9], [2, 4], [2, 4, 5], [2, 4, 5, 6], [2, 4, 5, 6, 7], [2, 4, 5, 6, 7, 8], [2, 4, 5, 6, 7, 8, 9], [2, 4, 5, 6, 7, 9], [2, 4, 5, 6, 8], [2, 4, 5, 6, 8, 9], [2, 4, 5, 6, 9], [2, 4, 5, 7], [2, 4, 5, 7, 8], [2, 4, 5, 7, 8, 9], [2, 4, 5, 7, 9], [2, 4, 5, 8], [2, 4, 5, 8, 9], [2, 4, 5, 9], [2, 4, 6], [2, 4, 6, 7], [2, 4, 6, 7, 8], [2, 4, 6, 7, 8, 9], [2, 4, 6, 7, 9], [2, 4, 6, 8], [2, 4, 6, 8, 9], [2, 4, 6, 9], [2, 4, 7], [2, 4, 7, 8], [2, 4, 7, 8, 9], [2, 4, 7, 9], [2, 4, 8], [2, 4, 8, 9], [2, 4, 9], [2, 5], [2, 5, 6], [2, 5, 6, 7], [2, 5, 6, 7, 8], [2, 5, 6, 7, 8, 9], [2, 5, 6, 7, 9], [2, 5, 6, 8], [2, 5, 6, 8, 9], [2, 5, 6, 9], [2, 5, 7], [2, 5, 7, 8], [2, 5, 7, 8, 9], [2, 5, 7, 9], [2, 5, 8], [2, 5, 8, 9], [2, 5, 9], [2, 6], [2, 6, 7], [2, 6, 7, 8], [2, 6, 7, 8, 9], [2, 6, 7, 9], [2, 6, 8], [2, 6, 8, 9], [2, 6, 9], [2, 7], [2, 7, 8], [2, 7, 8, 9], [2, 7, 9], [2, 8], [2, 8, 9], [2, 9], [3], [3, 4], [3, 4, 5], [3, 4, 5, 6], [3, 4, 5, 6, 7], [3, 4, 5, 6, 7, 8], [3, 4, 5, 6, 7, 8, 9], [3, 4, 5, 6, 7, 9], [3, 4, 5, 6, 8], [3, 4, 5, 6, 8, 9], [3, 4, 5, 6, 9], [3, 4, 5, 7], [3, 4, 5, 7, 8], [3, 4, 5, 7, 8, 9], [3, 4, 5, 7, 9], [3, 4, 5, 8], [3, 4, 5, 8, 9], [3, 4, 5, 9], [3, 4, 6], [3, 4, 6, 7], [3, 4, 6, 7, 8], [3, 4, 6, 7, 8, 9], [3, 4, 6, 7, 9], [3, 4, 6, 8], [3, 4, 6, 8, 9], [3, 4, 6, 9], [3, 4, 7], [3, 4, 7, 8], [3, 4, 7, 8, 9], [3, 4, 7, 9], [3, 4, 8], [3, 4, 8, 9], [3, 4, 9], [3, 5], [3, 5, 6], [3, 5, 6, 7], [3, 5, 6, 7, 8], [3, 5, 6, 7, 8, 9], [3, 5, 6, 7, 9], [3, 5, 6, 8], [3, 5, 6, 8, 9], [3, 5, 6, 9], [3, 5, 7], [3, 5, 7, 8], [3, 5, 7, 8, 9], [3, 5, 7, 9], [3, 5, 8], [3, 5, 8, 9], [3, 5, 9], [3, 6], [3, 6, 7], [3, 6, 7, 8], [3, 6, 7, 8, 9], [3, 6, 7, 9], [3, 6, 8], [3, 6, 8, 9], [3, 6, 9], [3, 7], [3, 7, 8], [3, 7, 8, 9], [3, 7, 9], [3, 8], [3, 8, 9], [3, 9], [4], [4, 5], [4, 5, 6], [4, 5, 6, 7], [4, 5, 6, 7, 8], [4, 5, 6, 7, 8, 9], [4, 5, 6, 7, 9], [4, 5, 6, 8], [4, 5, 6, 8, 9], [4, 5, 6, 9], [4, 5, 7], [4, 5, 7, 8], [4, 5, 7, 8, 9], [4, 5, 7, 9], [4, 5, 8], [4, 5, 8, 9], [4, 5, 9], [4, 6], [4, 6, 7], [4, 6, 7, 8], [4, 6, 7, 8, 9], [4, 6, 7, 9], [4, 6, 8], [4, 6, 8, 9], [4, 6, 9], [4, 7], [4, 7, 8], [4, 7, 8, 9], [4, 7, 9], [4, 8], [4, 8, 9], [4, 9], [5], [5, 6], [5, 6, 7], [5, 6, 7, 8], [5, 6, 7, 8, 9], [5, 6, 7, 9], [5, 6, 8], [5, 6, 8, 9], [5, 6, 9], [5, 7], [5, 7, 8], [5, 7, 8, 9], [5, 7, 9], [5, 8], [5, 8, 9], [5, 9], [6], [6, 7], [6, 7, 8], [6, 7, 8, 9], [6, 7, 9], [6, 8], [6, 8, 9], [6, 9], [7], [7, 8], [7, 8, 9], [7, 9], [8], [8, 9], [9]]\n",
      "1023\n"
     ]
    }
   ],
   "source": [
    "class_set=list(range(num_class))\n",
    "print(class_set)\n",
    "act_set= PowerSetsBinary(class_set)\n",
    "act_set.remove(act_set[0])#emptyset is not needed\n",
    "act_set=sorted(act_set)\n",
    "print(act_set)\n",
    "print(len(act_set))  # 1023\n",
    "#label_dict = {0:'airplane', 1:'automobile', 2:'bird', 3:'cat', 4:'deer',\n",
    "#              5:'dog', 6:'frog', 7:'horse', 8:'ship', 9:'truck'}"
   ],
   "metadata": {
    "collapsed": false,
    "pycharm": {
     "name": "#%%\n"
    }
   }
  },
  {
   "cell_type": "code",
   "execution_count": 13,
   "outputs": [
    {
     "name": "stdout",
     "output_type": "stream",
     "text": [
      "[[1.         0.         0.         0.         0.         0.\n",
      "  0.         0.         0.         0.        ]\n",
      " [0.8        0.8        0.         0.         0.         0.\n",
      "  0.         0.         0.         0.        ]\n",
      " [0.68186243 0.68186243 0.68186243 0.         0.         0.\n",
      "  0.         0.         0.         0.        ]\n",
      " [0.59617537 0.59617537 0.59617537 0.59617537 0.         0.\n",
      "  0.         0.         0.         0.        ]\n",
      " [0.53076331 0.53076331 0.53076331 0.53076331 0.53076331 0.\n",
      "  0.         0.         0.         0.        ]\n",
      " [0.47818266 0.47818266 0.47818266 0.47818266 0.47818266 0.47818266\n",
      "  0.         0.         0.         0.        ]\n",
      " [0.43480138 0.43480138 0.43480138 0.43480138 0.43480138 0.43480138\n",
      "  0.43480138 0.         0.         0.        ]\n",
      " [0.39912197 0.39912197 0.39912197 0.39912197 0.39912197 0.39912197\n",
      "  0.39912197 0.39912197 0.         0.        ]\n",
      " [0.36864039 0.36864039 0.36864039 0.36864039 0.36864039 0.36864039\n",
      "  0.36864039 0.36864039 0.36864039 0.        ]\n",
      " [0.34281757 0.34281757 0.34281757 0.34281757 0.34281757 0.34281757\n",
      "  0.34281757 0.34281757 0.34281757 0.34281757]\n",
      " [0.36864039 0.36864039 0.36864039 0.36864039 0.36864039 0.36864039\n",
      "  0.36864039 0.36864039 0.         0.36864039]\n",
      " [0.39912197 0.39912197 0.39912197 0.39912197 0.39912197 0.39912197\n",
      "  0.39912197 0.         0.39912197 0.        ]\n",
      " [0.36864039 0.36864039 0.36864039 0.36864039 0.36864039 0.36864039\n",
      "  0.36864039 0.         0.36864039 0.36864039]\n",
      " [0.39912197 0.39912197 0.39912197 0.39912197 0.39912197 0.39912197\n",
      "  0.39912197 0.         0.         0.39912197]\n",
      " [0.43480138 0.43480138 0.43480138 0.43480138 0.43480138 0.43480138\n",
      "  0.         0.43480138 0.         0.        ]\n",
      " [0.39912197 0.39912197 0.39912197 0.39912197 0.39912197 0.39912197\n",
      "  0.         0.39912197 0.39912197 0.        ]\n",
      " [0.36864039 0.36864039 0.36864039 0.36864039 0.36864039 0.36864039\n",
      "  0.         0.36864039 0.36864039 0.36864039]\n",
      " [0.39912197 0.39912197 0.39912197 0.39912197 0.39912197 0.39912197\n",
      "  0.         0.39912197 0.         0.39912197]\n",
      " [0.43480138 0.43480138 0.43480138 0.43480138 0.43480138 0.43480138\n",
      "  0.         0.         0.43480138 0.        ]\n",
      " [0.39912197 0.39912197 0.39912197 0.39912197 0.39912197 0.39912197\n",
      "  0.         0.         0.39912197 0.39912197]\n",
      " [0.43480138 0.43480138 0.43480138 0.43480138 0.43480138 0.43480138\n",
      "  0.         0.         0.         0.43480138]\n",
      " [0.47818266 0.47818266 0.47818266 0.47818266 0.47818266 0.\n",
      "  0.47818266 0.         0.         0.        ]\n",
      " [0.43480138 0.43480138 0.43480138 0.43480138 0.43480138 0.\n",
      "  0.43480138 0.43480138 0.         0.        ]\n",
      " [0.39912197 0.39912197 0.39912197 0.39912197 0.39912197 0.\n",
      "  0.39912197 0.39912197 0.39912197 0.        ]\n",
      " [0.36864039 0.36864039 0.36864039 0.36864039 0.36864039 0.\n",
      "  0.36864039 0.36864039 0.36864039 0.36864039]\n",
      " [0.39912197 0.39912197 0.39912197 0.39912197 0.39912197 0.\n",
      "  0.39912197 0.39912197 0.         0.39912197]\n",
      " [0.43480138 0.43480138 0.43480138 0.43480138 0.43480138 0.\n",
      "  0.43480138 0.         0.43480138 0.        ]\n",
      " [0.39912197 0.39912197 0.39912197 0.39912197 0.39912197 0.\n",
      "  0.39912197 0.         0.39912197 0.39912197]\n",
      " [0.43480138 0.43480138 0.43480138 0.43480138 0.43480138 0.\n",
      "  0.43480138 0.         0.         0.43480138]\n",
      " [0.47818266 0.47818266 0.47818266 0.47818266 0.47818266 0.\n",
      "  0.         0.47818266 0.         0.        ]\n",
      " [0.43480138 0.43480138 0.43480138 0.43480138 0.43480138 0.\n",
      "  0.         0.43480138 0.43480138 0.        ]\n",
      " [0.39912197 0.39912197 0.39912197 0.39912197 0.39912197 0.\n",
      "  0.         0.39912197 0.39912197 0.39912197]\n",
      " [0.43480138 0.43480138 0.43480138 0.43480138 0.43480138 0.\n",
      "  0.         0.43480138 0.         0.43480138]\n",
      " [0.47818266 0.47818266 0.47818266 0.47818266 0.47818266 0.\n",
      "  0.         0.         0.47818266 0.        ]\n",
      " [0.43480138 0.43480138 0.43480138 0.43480138 0.43480138 0.\n",
      "  0.         0.         0.43480138 0.43480138]\n",
      " [0.47818266 0.47818266 0.47818266 0.47818266 0.47818266 0.\n",
      "  0.         0.         0.         0.47818266]\n",
      " [0.53076331 0.53076331 0.53076331 0.53076331 0.         0.53076331\n",
      "  0.         0.         0.         0.        ]\n",
      " [0.47818266 0.47818266 0.47818266 0.47818266 0.         0.47818266\n",
      "  0.47818266 0.         0.         0.        ]\n",
      " [0.43480138 0.43480138 0.43480138 0.43480138 0.         0.43480138\n",
      "  0.43480138 0.43480138 0.         0.        ]\n",
      " [0.39912197 0.39912197 0.39912197 0.39912197 0.         0.39912197\n",
      "  0.39912197 0.39912197 0.39912197 0.        ]\n",
      " [0.36864039 0.36864039 0.36864039 0.36864039 0.         0.36864039\n",
      "  0.36864039 0.36864039 0.36864039 0.36864039]\n",
      " [0.39912197 0.39912197 0.39912197 0.39912197 0.         0.39912197\n",
      "  0.39912197 0.39912197 0.         0.39912197]\n",
      " [0.43480138 0.43480138 0.43480138 0.43480138 0.         0.43480138\n",
      "  0.43480138 0.         0.43480138 0.        ]\n",
      " [0.39912197 0.39912197 0.39912197 0.39912197 0.         0.39912197\n",
      "  0.39912197 0.         0.39912197 0.39912197]\n",
      " [0.43480138 0.43480138 0.43480138 0.43480138 0.         0.43480138\n",
      "  0.43480138 0.         0.         0.43480138]\n",
      " [0.47818266 0.47818266 0.47818266 0.47818266 0.         0.47818266\n",
      "  0.         0.47818266 0.         0.        ]\n",
      " [0.43480138 0.43480138 0.43480138 0.43480138 0.         0.43480138\n",
      "  0.         0.43480138 0.43480138 0.        ]\n",
      " [0.39912197 0.39912197 0.39912197 0.39912197 0.         0.39912197\n",
      "  0.         0.39912197 0.39912197 0.39912197]\n",
      " [0.43480138 0.43480138 0.43480138 0.43480138 0.         0.43480138\n",
      "  0.         0.43480138 0.         0.43480138]\n",
      " [0.47818266 0.47818266 0.47818266 0.47818266 0.         0.47818266\n",
      "  0.         0.         0.47818266 0.        ]]\n"
     ]
    }
   ],
   "source": [
    "utility_matrix = np.zeros([len(act_set), len(class_set)])\n",
    "tol_i = 3\n",
    "#tol_i = 0 with tol=0.5, tol_i = 1 with tol=0.6, tol_i = 2 with tol=0.7, tol_i = 3 with tol=0.8, tol_i = 4 with tol=0.9\n",
    "for i in range(len(act_set)):\n",
    "    intersec = class_set and act_set[i]\n",
    "    if len(intersec) == 1:\n",
    "        utility_matrix[i, intersec] = 1\n",
    "\n",
    "    else:\n",
    "        for j in range(len(intersec)):\n",
    "            utility_matrix[i, intersec[j]] = locals()['weight' + str(len(intersec))][tol_i, 0]\n",
    "\n",
    "print(utility_matrix[0:50,:])"
   ],
   "metadata": {
    "collapsed": false,
    "pycharm": {
     "name": "#%%\n"
    }
   }
  },
  {
   "cell_type": "code",
   "execution_count": 14,
   "outputs": [
    {
     "name": "stdout",
     "output_type": "stream",
     "text": [
      "Model: \"model_4\"\n",
      "_________________________________________________________________\n",
      "Layer (type)                 Output Shape              Param #   \n",
      "=================================================================\n",
      "input_4 (InputLayer)         [(None, 32, 32, 3)]       0         \n",
      "_________________________________________________________________\n",
      "conv2d_15 (Conv2D)           (None, 32, 32, 32)        896       \n",
      "_________________________________________________________________\n",
      "conv2d_16 (Conv2D)           (None, 32, 32, 32)        9248      \n",
      "_________________________________________________________________\n",
      "conv2d_17 (Conv2D)           (None, 32, 32, 32)        9248      \n",
      "_________________________________________________________________\n",
      "conv2d_18 (Conv2D)           (None, 32, 32, 48)        13872     \n",
      "_________________________________________________________________\n",
      "conv2d_19 (Conv2D)           (None, 32, 32, 48)        20784     \n",
      "_________________________________________________________________\n",
      "batch_normalization_3 (Batch (None, 32, 32, 48)        192       \n",
      "_________________________________________________________________\n",
      "max_pooling2d_3 (MaxPooling2 (None, 16, 16, 48)        0         \n",
      "_________________________________________________________________\n",
      "dropout_3 (Dropout)          (None, 16, 16, 48)        0         \n",
      "_________________________________________________________________\n",
      "conv2d_20 (Conv2D)           (None, 16, 16, 80)        34640     \n",
      "_________________________________________________________________\n",
      "conv2d_21 (Conv2D)           (None, 16, 16, 80)        57680     \n",
      "_________________________________________________________________\n",
      "conv2d_22 (Conv2D)           (None, 16, 16, 80)        57680     \n",
      "_________________________________________________________________\n",
      "conv2d_23 (Conv2D)           (None, 16, 16, 80)        57680     \n",
      "_________________________________________________________________\n",
      "conv2d_24 (Conv2D)           (None, 16, 16, 80)        57680     \n",
      "_________________________________________________________________\n",
      "batch_normalization_4 (Batch (None, 16, 16, 80)        320       \n",
      "_________________________________________________________________\n",
      "max_pooling2d_4 (MaxPooling2 (None, 8, 8, 80)          0         \n",
      "_________________________________________________________________\n",
      "dropout_4 (Dropout)          (None, 8, 8, 80)          0         \n",
      "_________________________________________________________________\n",
      "conv2d_25 (Conv2D)           (None, 8, 8, 128)         92288     \n",
      "_________________________________________________________________\n",
      "conv2d_26 (Conv2D)           (None, 8, 8, 128)         147584    \n",
      "_________________________________________________________________\n",
      "conv2d_27 (Conv2D)           (None, 8, 8, 128)         147584    \n",
      "_________________________________________________________________\n",
      "conv2d_28 (Conv2D)           (None, 8, 8, 128)         147584    \n",
      "_________________________________________________________________\n",
      "conv2d_29 (Conv2D)           (None, 8, 8, 128)         147584    \n",
      "_________________________________________________________________\n",
      "batch_normalization_5 (Batch (None, 8, 8, 128)         512       \n",
      "_________________________________________________________________\n",
      "max_pooling2d_5 (MaxPooling2 (None, 1, 1, 128)         0         \n",
      "_________________________________________________________________\n",
      "dropout_5 (Dropout)          (None, 1, 1, 128)         0         \n",
      "_________________________________________________________________\n",
      "flatten_1 (Flatten)          (None, 128)               0         \n",
      "_________________________________________________________________\n",
      "d_s1_3 (DS1)                 (None, 200)               25600     \n",
      "_________________________________________________________________\n",
      "d_s1_activate_3 (DS1_activat (None, 200)               400       \n",
      "_________________________________________________________________\n",
      "d_s2_3 (DS2)                 (None, 200, 10)           2000      \n",
      "_________________________________________________________________\n",
      "d_s2_omega_2 (DS2_omega)     (None, 200, 11)           0         \n",
      "_________________________________________________________________\n",
      "d_s3__dempster_2 (DS3_Dempst (None, 11)                0         \n",
      "_________________________________________________________________\n",
      "d_s3_normalize_2 (DS3_normal (None, 11)                0         \n",
      "_________________________________________________________________\n",
      "dm_test (DM_test)            (None, 1023)              10230     \n",
      "=================================================================\n",
      "Total params: 1,041,286\n",
      "Trainable params: 1,030,544\n",
      "Non-trainable params: 10,742\n",
      "_________________________________________________________________\n"
     ]
    }
   ],
   "source": [
    "IMG_WIDTH = 32\n",
    "IMG_HEIGHT = 32\n",
    "IMG_CHANNELS = 3\n",
    "inputs_pixels = IMG_WIDTH * IMG_HEIGHT\n",
    "prototypes=200\n",
    "num_class=10\n",
    "number_act_set = len(act_set)\n",
    "\n",
    "inputs = tf.keras.layers.Input((IMG_HEIGHT, IMG_WIDTH, IMG_CHANNELS))\n",
    "\n",
    "#convolution stages\n",
    "c1_1 = tf.keras.layers.Conv2D(32, (3, 3), activation='relu', kernel_initializer='he_normal', padding='same')(inputs)\n",
    "c1_2 = tf.keras.layers.Conv2D(32, (3, 3), activation='relu', kernel_initializer='he_normal', padding='same')(c1_1)\n",
    "c1_3 = tf.keras.layers.Conv2D(32, (3, 3), activation='relu', kernel_initializer='he_normal', padding='same')(c1_2)\n",
    "c1_4 = tf.keras.layers.Conv2D(48, (3, 3), activation='relu', kernel_initializer='he_normal', padding='same')(c1_3)\n",
    "c1_5 = tf.keras.layers.Conv2D(48, (3, 3), activation='relu', kernel_initializer='he_normal', padding='same')(c1_4)\n",
    "bt1 = tf.keras.layers.BatchNormalization()(c1_5)\n",
    "p1 = tf.keras.layers.MaxPooling2D((2, 2))(bt1)\n",
    "dr1 = tf.keras.layers.Dropout(0.5)(p1)\n",
    "\n",
    "\n",
    "c2_1 = tf.keras.layers.Conv2D(80, (3, 3), activation='relu', kernel_initializer='he_normal', padding='same')(dr1)\n",
    "c2_2 = tf.keras.layers.Conv2D(80, (3, 3), activation='relu', kernel_initializer='he_normal', padding='same')(c2_1)\n",
    "c2_3 = tf.keras.layers.Conv2D(80, (3, 3), activation='relu', kernel_initializer='he_normal', padding='same')(c2_2)\n",
    "c2_4 = tf.keras.layers.Conv2D(80, (3, 3), activation='relu', kernel_initializer='he_normal', padding='same')(c2_3)\n",
    "c2_5 = tf.keras.layers.Conv2D(80, (3, 3), activation='relu', kernel_initializer='he_normal', padding='same')(c2_4)\n",
    "bt2 = tf.keras.layers.BatchNormalization()(c2_5)\n",
    "p2 = tf.keras.layers.MaxPooling2D((2, 2))(bt2)\n",
    "dr2 = tf.keras.layers.Dropout(0.5)(p2)\n",
    "\n",
    "c3_1 = tf.keras.layers.Conv2D(128, (3, 3), activation='relu', kernel_initializer='he_normal', padding='same')(dr2)\n",
    "c3_2 = tf.keras.layers.Conv2D(128, (3, 3), activation='relu', kernel_initializer='he_normal', padding='same')(c3_1)\n",
    "c3_3 = tf.keras.layers.Conv2D(128, (3, 3), activation='relu', kernel_initializer='he_normal', padding='same')(c3_2)\n",
    "c3_4 = tf.keras.layers.Conv2D(128, (3, 3), activation='relu', kernel_initializer='he_normal', padding='same')(c3_3)\n",
    "c3_5 = tf.keras.layers.Conv2D(128, (3, 3), activation='relu', kernel_initializer='he_normal', padding='same')(c3_4)\n",
    "bt3 = tf.keras.layers.BatchNormalization()(c3_5)\n",
    "p3 = tf.keras.layers.MaxPooling2D((8, 8))(bt3)\n",
    "dr3 = tf.keras.layers.Dropout(0.5)(p3)\n",
    "flatten1=tf.keras.layers.Flatten()(dr3)\n",
    "\n",
    "#DS layer\n",
    "ED = ds.DS1(prototypes,128)(flatten1)\n",
    "ED_ac = ds.DS1_activate(prototypes)(ED)\n",
    "mass_prototypes = ds.DS2(prototypes, num_class)(ED_ac)\n",
    "mass_prototypes_omega = ds.DS2_omega(prototypes, num_class)(mass_prototypes)\n",
    "mass_Dempster = ds.DS3_Dempster(prototypes, num_class)(mass_prototypes_omega)\n",
    "mass_Dempster_normalize = ds.DS3_normalize()(mass_Dempster)\n",
    "\n",
    "#Utility layer for testing\n",
    "outputs = uti_test.DM_test(num_class, number_act_set, 0.9)(mass_Dempster_normalize)\n",
    "\n",
    "\n",
    "model_e_imprecise = tf.keras.Model(inputs=[inputs], outputs=[outputs])\n",
    "model_e_imprecise.compile(optimizer=keras.optimizers.Nadam(lr=0.001, beta_1=0.9, beta_2=0.999, epsilon=None, schedule_decay=0.004),\n",
    "                          loss='categorical_crossentropy',\n",
    "                          metrics=['accuracy'])\n",
    "model_e_imprecise.summary()"
   ],
   "metadata": {
    "collapsed": false,
    "pycharm": {
     "name": "#%%\n"
    }
   }
  },
  {
   "cell_type": "code",
   "execution_count": 15,
   "outputs": [
    {
     "data": {
      "text/plain": "<tensorflow.python.training.tracking.util.CheckpointLoadStatus at 0x1ed9a821eb8>"
     },
     "execution_count": 15,
     "metadata": {},
     "output_type": "execute_result"
    }
   ],
   "source": [
    "model_e_imprecise.layers[-1].set_weights(tf.reshape(utility_matrix, [1, 1023, 10]))\n",
    "model_e_imprecise.load_weights('C:\\DLDoc\\model_e')"
   ],
   "metadata": {
    "collapsed": false,
    "pycharm": {
     "name": "#%%\n"
    }
   }
  },
  {
   "cell_type": "code",
   "execution_count": 18,
   "outputs": [
    {
     "name": "stdout",
     "output_type": "stream",
     "text": [
      "tf.Tensor([ 896 1020 1020 ...  992  512 1016], shape=(10000,), dtype=int64)\n"
     ]
    }
   ],
   "source": [
    "# 概率最大的子集的index，也就是幂集的行号\n",
    "results = tf.argmax(model_e_imprecise.predict(x_test), -1)\n",
    "print(results)"
   ],
   "metadata": {
    "collapsed": false,
    "pycharm": {
     "name": "#%%\n"
    }
   }
  },
  {
   "cell_type": "code",
   "execution_count": 22,
   "outputs": [
    {
     "name": "stdout",
     "output_type": "stream",
     "text": [
      "[[3], [8], [8], [0], [6], [6], [1], [6], [3], [1], [0], [9], [5], [7], [9], [8], [5], [7], [8], [6], [7], [0, 2], [0], [9], [5, 7], [2], [4], [0], [9], [6], [6], [5], [2], [5], [9], [8], [4], [9], [9], [5], [4], [6], [5], [6], [0], [9], [3], [9], [7], [6], [9], [8], [7], [3], [8], [8], [7], [3, 5], [3, 5, 6], [3], [7], [5], [6], [3, 5], [3, 6], [2], [1], [2], [3], [7], [0, 2], [6], [8], [8], [0], [2], [9], [3], [3, 5], [8], [8], [1], [1], [7], [2], [5], [2], [7], [8], [9], [0], [3], [8], [6], [4], [6], [6], [0], [0], [7], [7], [5], [6], [3], [1], [1], [3], [6], [8], [7], [4], [0], [2, 6], [2], [1], [3], [0], [4], [6], [7], [8], [3], [1], [2], [8], [0, 2], [8], [3], [3, 6], [2], [4], [1], [8], [9], [1], [2], [9], [7], [2], [8], [6], [5], [6], [3, 7], [8], [2], [6], [5], [5], [2], [8], [9], [6], [0], [0], [5], [2], [9], [3], [4], [0, 2], [1], [6], [6], [0, 8], [4], [8], [4], [5], [0, 8], [9], [9], [9], [8], [9], [9], [3], [7], [3, 5], [0], [0], [5], [2], [2], [3], [8], [6], [3], [3], [0], [5], [8], [7], [1], [7], [2], [8], [8], [7], [8], [5], [1], [8], [7], [1], [3], [0], [5], [7], [9], [7], [0, 4], [5], [8], [8], [0, 2], [7], [9], [8], [2], [7], [6], [9], [4], [4], [9], [0, 2, 3, 5, 7], [4], [3, 5], [6], [5], [1], [3, 5], [8], [8], [0], [4], [2], [3, 5], [5], [1], [1], [8], [9], [0], [6], [1], [8], [4], [0, 2], [5], [3, 5], [9], [9], [4], [0], [3], [8], [0], [9], [8], [1], [5], [7], [0, 8], [0, 8], [2], [4], [7], [0, 2], [2], [3, 5], [6], [3], [8], [4], [0], [2], [4], [3], [9], [0], [6], [1], [0], [9], [1], [0], [7], [9], [1], [2], [6], [9], [3], [4], [6], [0], [0], [6], [6], [6], [4], [2], [6], [1], [8], [2], [1], [2], [8], [6], [0], [0, 2], [4], [0], [7], [7], [5], [5], [3], [5], [2], [6], [4], [1], [7], [5], [4], [6], [1], [9], [3, 6], [6], [6], [9], [3], [8], [0], [7], [2], [6], [0, 2], [5], [8], [5], [4, 7], [6], [8], [9], [9], [1], [0], [2], [2], [4], [3], [2], [8], [0], [9], [5], [8], [1], [9], [4], [1], [3], [8], [1], [4, 6], [7], [9], [4], [2], [7], [0, 2], [7], [0, 2, 8], [6], [6], [9], [0], [9], [5], [0, 8], [7], [2], [2], [5], [1], [2], [6], [2], [9], [6], [2], [3], [0], [3], [9], [8], [7], [8], [8], [4], [0], [1], [8], [2], [7], [0, 8], [2, 3], [6], [1], [9], [0], [7], [3], [7], [4], [5], [8], [0], [2], [9], [6], [2, 4], [0], [6], [4], [5], [3], [7], [3], [7], [2], [5], [3], [1], [1], [2, 4], [9], [9], [5], [7], [5], [0], [2], [0], [2], [9], [7], [2, 4], [9], [4], [4], [5], [4], [6], [5], [6], [1], [2, 4], [4, 6], [4], [4], [3], [7], [8], [3], [7], [8], [0], [3, 5], [7], [6], [0], [2, 3, 5, 6], [4], [8], [6], [8], [3], [5], [9], [9], [9], [4], [0], [1], [0], [8], [1], [1], [8], [0], [2], [2], [0], [4], [6], [5], [4], [9], [4], [7], [9], [2], [4], [5], [6], [6], [1], [5], [3], [8], [9], [3, 5], [8], [5], [7], [0], [7], [0], [5], [0], [0], [4], [6], [9], [3], [9], [5], [6], [6], [6], [2], [8], [0], [1], [3, 4, 5, 7], [6], [7], [5], [9], [1], [6], [2], [5], [5], [3], [8], [3, 5, 7], [9], [4], [6], [4], [3, 5], [2], [0], [7], [6], [2, 4, 6], [2], [3], [9], [3, 7], [9], [0, 2], [6], [7], [1], [3], [6], [6], [8], [8], [7], [5], [4], [0], [8], [4], [0], [9], [3], [4], [8], [9], [6], [9], [2], [6], [1], [0], [7], [3], [3], [3], [8], [5], [0], [2], [1], [6], [4], [0, 2], [3], [9], [6], [9], [8], [8], [5], [8], [6], [6], [2], [1], [7], [7], [1], [0, 2], [7], [9], [9], [4], [4], [1], [2], [2, 5], [6], [8], [7], [6], [8], [3], [0], [4], [3, 5], [3], [0], [7], [9], [1], [3], [4], [4], [5], [3], [1], [5], [6], [9], [2], [1], [1], [4], [1], [9], [4, 7], [7], [6], [3], [0], [9], [0], [1], [3], [6], [5], [2, 6], [3], [2], [8], [3], [1], [0, 2], [5], [9], [6], [4], [0], [9], [2, 3, 4, 5], [9], [6], [3], [0, 2], [3], [2], [0, 2], [7], [8], [3], [8], [0, 2], [7], [2, 5], [7], [2], [4], [8], [2], [4], [2], [9], [8], [8], [6], [8], [8], [3, 7], [4], [3, 5], [3], [8], [4], [9], [4], [8], [8], [1], [8], [8], [1], [0], [6], [5], [5], [0], [7], [9], [1], [6], [1], [4], [1], [5], [7], [7], [0], [7], [6], [7], [3], [6], [2], [3], [9], [0, 2], [9], [1], [2], [2], [6], [8], [2], [1], [3], [2, 3, 5, 6], [6], [0], [1], [2], [7], [0, 8], [5], [4], [0, 2, 3], [1], [6], [4], [0, 2], [2, 4, 6, 7], [2], [6], [0], [5], [9], [1], [7], [6], [7], [0], [3], [9], [6], [8], [3], [0], [3, 6], [5], [7], [7], [3, 4, 6], [4, 7], [7], [4, 6], [7], [1], [4], [7], [4], [4], [8], [4], [7], [7], [2], [5], [7], [2], [0, 9], [8], [9], [5], [8], [0, 2], [2, 3, 6], [2], [0], [8], [7], [3], [7], [6], [4, 5], [3], [1], [3], [2], [2], [5], [4], [9], [2], [9], [2], [7], [0], [7], [2], [1], [0, 2], [2], [0], [2], [4], [7], [9], [8], [9], [0], [7], [7], [0], [7], [8], [4, 7], [6], [6], [3], [0], [1], [3], [7], [0], [1], [3], [1], [4], [2], [3], [8], [4], [2], [3], [7], [8], [4], [0, 2], [0], [9], [0], [0], [1], [0], [4], [4], [6], [7], [3], [1], [1], [3], [7], [7], [5], [2], [6], [6], [5], [8], [7], [1], [6], [8], [8], [7], [3], [2, 4], [3, 4, 5], [0, 2], [1], [2, 4], [8], [8], [0], [6], [9], [9], [9], [2, 5, 7], [3], [8], [6], [0], [0], [4], [2], [3], [7], [7], [2], [2], [5], [9], [8], [9], [0, 1], [7], [4, 6], [0], [3], [0], [1], [3], [8], [3], [9], [6], [0], [4], [7], [0, 2], [3], [7], [8], [9], [1], [1], [6], [6], [6], [6], [9], [1], [9], [9], [4], [6], [1], [3, 7], [0], [6], [8], [1], [9], [2], [9], [3, 7], [4], [7], [8], [3], [1], [0, 2], [0], [1], [5], [8], [7], [2, 3], [3, 5], [8], [9], [3], [8], [5], [0, 8], [0, 8], [4], [8], [1], [1], [0, 2], [8], [6], [0], [8], [6], [1], [3], [4], [1], [6], [0], [3], [1], [1], [0], [0], [3], [5], [0, 2], [0], [6], [6], [3], [3], [6], [3], [3], [3], [0, 2], [7], [2], [2], [2, 4, 7], [5], [2], [0, 2], [8], [5], [2], [1], [1], [0, 2, 3, 4], [0, 2, 3], [2], [0], [3], [1], [5], [3], [7], [6], [8], [9], [1], [6], [4], [9], [3], [9], [0], [9], [6], [3], [6], [8], [7], [3], [8], [8], [0], [0], [6], [6], [6], [9], [2], [5], [4], [4], [6], [3], [6], [8], [8], [6], [0], [6], [2], [7], [5], [1], [2], [0, 2], [8], [8], [0], [9], [2, 4], [9], [7], [2], [0], [2], [8], [3], [8], [9], [1], [5], [5], [4, 7], [7], [2, 5], [3], [8], [3], [3], [6], [0], [8], [4], [6], [7], [9], [2], [4], [1], [6], [9], [0, 4, 9], [3, 9], [8], [6], [1], [8], [6], [1], [4], [2], [3, 4, 6], [2], [7], [7], [2], [0], [8], [6], [9], [1], [7], [1], [8], [8], [0], [7], [5], [8], [0], [3], [3], [3], [7], [7], [9], [2, 7], [3], [1], [9], [1], [9], [0, 2], [3], [3], [6], [1], [0], [6], [1], [4], [1], [0], [0], [1], [1], [6], [2, 3, 5], [4], [6], [2], [0], [7], [9], [8], [7], [2], [0], [6], [8], [1], [4], [3], [7], [0, 2], [6], [1], [8], [5], [7], [8], [4], [8], [3], [9], [9], [9], [8], [4, 7], [6], [6], [3, 5], [2, 3, 4], [1], [3], [9], [1], [4], [1], [5], [3], [0, 8], [1], [3, 5], [2], [8], [8], [8], [3, 5], [6], [7], [0, 4], [0, 8], [4], [7], [2, 3, 5], [5], [8], [2], [4], [9], [2], [1], [8], [1], [9], [8], [8], [8], [1], [0], [4], [3], [3], [1], [8], [4], [6], [3], [3, 5], [2], [2], [2], [8], [3], [8], [9], [5], [8], [0, 4, 9], [8], [9], [1], [6], [5], [9], [4], [7], [0, 8], [0], [7], [0, 2], [9], [0, 7], [4], [1], [6], [4], [0], [9], [1], [0, 2], [5], [6], [0], [8], [6], [1], [9], [4], [5], [9], [5], [0], [7], [2], [0], [0], [4], [4], [6], [6], [5], [5], [2], [8], [1], [7], [2], [1], [4], [3, 5], [6], [3, 5], [1], [4], [7], [0], [9], [4], [2, 7], [8], [2], [8], [4], [7], [2], [3], [1], [3], [2], [9], [8], [9], [7], [9], [5], [1], [4], [0], [8], [2], [3, 5], [8], [9], [1], [9], [3, 5], [0, 2], [4], [9], [3], [1], [7], [4], [6], [2], [8], [9], [5], [3], [9], [3], [5], [6], [2, 3, 5], [2], [4], [3, 6], [3], [1], [0], [7], [0, 2], [5], [4], [7], [6], [1], [1], [9], [8], [1], [0], [1], [3], [1], [1], [1], [7], [3], [9], [6], [8], [4], [6], [0, 8], [4], [9], [4], [7], [9], [7], [3, 6], [8], [4], [9], [7], [0], [1], [6], [1], [2, 6], [9], [0], [4], [3, 5], [4], [1], [3, 4, 5], [0], [8], [2, 4], [6], [2], [2, 4], [6], [3, 5], [3], [6], [2], [1], [1], [8], [6], [0], [4], [0], [1], [9], [7], [1], [3], [7], [5, 7], [8], [4, 7], [7], [3], [9], [7], [7], [7], [2], [1], [2], [8], [6], [4], [0, 2], [7], [9], [8], [6], [8], [2, 3, 4], [8], [1], [3], [0, 2], [2], [8], [5], [8], [1], [2], [2], [4], [1], [2], [7], [0, 2], [8], [1], [8], [1], [8], [6], [0], [2], [0, 2], [1], [3], [6], [7], [7], [4], [4], [3], [3], [4], [2], [2], [4], [3], [7], [8], [4], [4], [4], [3], [4], [2, 3], [2], [8], [4], [5], [5], [4], [1], [4], [0, 2], [5], [9], [6], [4], [3], [4], [4], [0], [8], [8], [4], [5], [7], [5], [6], [9], [1], [6], [7], [2], [0], [8], [4], [5, 7], [6], [0], [0], [2], [3, 4, 6, 7], [5], [6], [0], [6], [3], [9], [1], [7], [7], [5], [0, 2], [5], [6], [0], [1], [4, 7], [3], [3], [3], [0], [3], [5], [5], [8], [9], [7], [3], [1], [2, 7], [3, 5, 7], [3], [4], [4], [2, 4], [3], [3], [8], [1], [7], [7], [0], [7], [4], [5], [1], [4], [2], [4], [3], [4, 9], [9], [7], [9], [9], [1], [8], [1], [6], [7], [5, 7], [5], [4], [9], [7], [6], [5], [9], [2], [4], [0], [7], [8], [5], [5], [0], [0], [9], [9], [8], [0], [5], [4], [8], [3], [6], [3], [6], [0], [6], [6], [6], [9], [6], [2], [8], [6], [2], [4], [5], [8], [1], [2], [7], [6], [5], [7], [8], [8], [2, 6], [0], [8], [6], [9], [2], [8], [9], [0, 4], [0], [9], [4], [9], [5], [7], [5], [5], [9], [5], [3], [0], [1], [9], [2], [2], [2, 4], [1], [0], [0, 8], [0], [3], [1], [7], [8], [0], [4], [8], [6], [2], [4], [0], [0], [0, 1], [0], [8], [0, 4], [3], [1], [3], [9], [0], [3, 6], [6], [3, 5], [0, 2], [1], [5], [8], [1], [0], [5], [0, 2], [1], [0], [2], [8], [1], [5], [6], [7], [7], [3], [6], [2], [5], [0], [1], [4], [2], [5], [2], [6], [2], [0, 2], [1], [7], [2], [9], [5], [5], [3], [0, 2], [4], [8], [2, 3, 5], [7], [6], [3, 5], [8], [1], [0], [1], [3], [3], [0, 4], [7], [6], [9], [5], [3], [6], [0], [1], [4], [4], [4], [4], [2], [2], [4], [8], [1], [5], [9], [8], [1], [1], [2, 3], [3], [9], [9], [0], [6], [5], [0], [8], [4], [7], [0, 2, 3], [9], [2], [8], [4], [8], [0, 1], [3, 5], [9], [6], [8], [9], [0, 2], [4], [9], [2], [7], [8], [9], [4], [8], [9], [4, 7], [2], [5], [3], [7], [1], [0, 2], [2], [9], [5], [5], [8], [5], [4, 7], [2], [8], [3], [4], [5], [7], [7], [8], [6], [7], [8], [0, 2], [5], [5], [6], [8], [0], [2], [3], [7], [0], [1], [9], [1], [3], [7], [3], [2], [3], [2], [9], [3, 4, 6], [8], [6], [9], [3], [0, 8], [9], [0, 8], [2, 3, 4, 5, 6], [7], [8], [5], [0, 2], [0], [1], [2, 3], [0], [1], [5], [3, 4, 6], [4], [4], [0], [9], [9], [9], [9], [8], [2], [4], [2], [0, 2], [5], [1], [3], [1], [0], [9], [0, 4], [2], [1], [6], [0], [3, 5], [0], [4], [3, 5], [9], [0], [7], [3, 5], [2, 7], [2], [8], [4], [7], [8], [3], [5], [0], [2, 3, 4], [7], [4], [4], [0], [2], [7], [7], [3, 6], [0, 2], [2], [7], [6], [0, 2], [3], [0], [7], [7], [8], [1, 9], [1], [2, 4], [6], [0], [6], [6], [5], [5], [6], [3], [9], [3], [6], [0, 2], [7], [6], [2, 4, 7], [9], [3, 5], [6], [4], [1], [6], [2], [8], [2], [3], [9], [8], [5], [1], [5], [2], [5], [7], [3, 5], [7], [8], [9], [1], [2, 5], [4], [5], [6], [8], [4], [6], [5], [3], [9], [9], [8], [5], [3, 5], [6], [4], [3, 5], [9], [7], [3], [4], [1], [2, 3], [2, 4], [4], [6], [3], [5], [2], [8], [0], [0], [1], [8], [3, 5], [1], [3, 5], [5], [8], [3], [8], [5], [8], [6], [3], [5], [5], [5], [0], [1], [5], [2], [7], [1], [8], [2, 4], [2], [7], [3], [4], [2], [9], [6], [2], [2], [4], [3], [0], [6], [0], [1], [6], [2], [2, 6], [7], [0], [1], [0], [7], [7], [2], [0, 2], [1], [6], [5], [0], [2], [2], [0], [1], [2], [6], [0], [1], [6], [6], [5], [3], [4], [0], [0, 2], [9], [1], [0], [2], [5], [9], [7], [8], [6], [0, 4], [6], [0], [2], [0], [0], [9], [2], [6], [9], [0], [7], [2], [3], [4], [8], [0, 2, 4, 9], [2], [6], [8], [9], [7], [0], [9], [3], [7], [2], [7], [9], [6], [9], [5], [7], [8], [5], [8], [8], [3], [9], [0, 4, 9], [0], [3, 5, 7], [5], [7], [1], [0], [0, 2], [5], [5], [8], [2], [2], [0, 4], [6], [9], [3], [1], [9], [3], [1], [4], [8], [4], [4], [9], [0], [1, 9], [3], [9], [2], [9], [4], [0], [0, 2], [8], [4], [8], [6], [8], [2], [0, 2], [5], [9], [6], [9], [3], [1], [3], [4], [4], [2], [7], [2], [2, 4], [4], [0], [3, 5], [8], [4], [2], [1], [2], [6], [8], [1], [7], [6], [8], [7], [4], [3], [3], [3, 7], [3, 5], [7], [2], [5], [2], [1], [7], [1], [0], [2], [3, 4, 7], [9], [8], [0, 1], [5], [8], [0], [7], [3, 6], [3], [3], [8], [1], [4], [0], [1], [5], [4], [3], [0, 4], [6], [0, 2], [8], [8], [6], [3], [3], [2, 4], [8], [7], [3, 5], [1], [6], [0], [5], [9], [9], [4], [5], [9], [2, 3, 4], [0, 8], [3], [3, 6], [2], [5], [1], [9], [5], [5], [1], [1], [8], [9], [7], [0], [3], [0, 2, 3], [2], [0], [2], [6], [9], [3, 5], [9], [1], [6], [6], [7], [2], [2, 6], [3, 5], [2], [5], [5], [2], [7], [3, 5], [2], [0, 2], [8], [0, 2], [3, 5], [7], [1], [7], [4], [0], [7], [2], [6], [1], [2, 5], [9], [7], [6], [2], [7], [0], [3, 5], [6], [0], [1], [1], [8], [4], [5], [0, 3], [1], [3, 4], [4], [8], [0, 1], [8], [1], [3], [2], [7], [0], [2, 4], [3, 6], [6], [7], [9], [4], [0], [1], [0], [4], [5], [0], [8], [0], [7], [6], [1], [0, 8], [8], [5], [9], [2], [5], [4, 7], [0, 2], [9], [0], [6], [1], [2], [5], [1], [6], [7], [1], [2, 5], [8], [8], [0], [3], [9], [4], [0, 2], [6], [4], [9], [2], [2], [3], [0], [6], [6], [3, 5, 6], [6], [6], [7], [8], [3], [8], [8], [2, 4, 7], [6], [8], [0], [0, 2], [3], [6], [8], [7], [8], [9], [9], [0], [6], [6], [8], [1], [1], [7], [4], [3, 4], [2], [3], [6], [9], [0, 2, 6], [2], [4, 5, 7], [1], [8], [2], [4], [0, 1], [3], [8], [6], [8], [5], [9], [0], [1], [0], [4], [9], [2], [9], [0], [9], [7], [8], [5], [8], [6], [6], [8], [1], [6], [5], [8], [7], [9], [2], [1], [6], [7], [5], [6], [3], [0], [9], [8], [9], [4], [0, 4, 8, 9], [9], [8], [3], [6], [4], [2, 4], [8], [8], [1], [0], [3], [0], [4], [0], [4], [1], [2], [2], [9], [2], [2], [9], [7], [4], [1], [9], [1], [4], [3], [0, 8], [4], [8], [9], [3], [2, 6], [2], [1], [6], [9], [0], [5], [1], [5], [8], [2], [1], [0, 8], [3], [2], [4], [8], [4], [0], [6], [4], [2, 3, 4], [9], [8], [4, 7], [7], [6], [2], [4], [7], [7], [6], [4], [2], [2], [3], [2], [4], [9], [0], [0, 2], [9], [6], [5], [8], [5], [2], [4], [8], [8], [6], [3, 4, 6], [5], [7], [6], [3], [3, 4], [0], [4], [0], [3], [8], [7], [8], [0], [4], [9], [2], [3, 6], [3], [8], [1], [6], [0, 2], [8], [4], [3], [1], [4], [3], [2], [4], [3], [6], [0], [7], [1], [3], [5], [7], [1], [8], [0], [0, 3, 8], [8], [2], [7], [7], [0], [2, 6], [2], [4], [3], [3], [9], [6], [1], [6], [4], [6], [7], [4], [4, 6, 7], [3], [8], [1], [3], [1], [4], [6], [0, 2, 3], [0, 2, 3, 5], [7], [4], [5], [4], [9], [7], [7], [2], [3], [3], [6], [7], [4], [1], [6], [1], [0], [6], [9], [6], [8], [2], [0], [6], [3, 4, 6], [7], [0], [0, 2], [0], [0], [7], [5], [3, 5], [2], [7], [8], [3], [3, 5], [2], [2], [8], [9], [1], [2, 4], [2], [0], [3], [4], [9], [0, 1], [6], [0, 1, 9], [0], [8], [3], [6], [4], [6], [7], [5], [1], [8], [9], [0], [2, 3, 5, 6], [0], [5], [2], [3], [8], [3, 5], [2], [0], [8], [5], [9], [2], [3], [6], [5], [7], [3], [7], [2], [8], [0, 8], [4], [2], [1], [6], [2], [9], [9], [8], [2, 6], [3], [1], [0], [5], [2], [3], [7], [9], [5], [9], [1], [1], [3], [2], [7], [7], [4], [1], [9], [4], [3, 5], [5], [2], [2, 4], [7], [6], [1], [2, 3, 4, 6], [3], [7], [5], [4], [2], [7], [7], [8], [0], [1], [4, 6], [4], [3], [7], [9], [8], [7], [0], [9], [0, 2], [3, 6], [7], [6], [5], [8], [4], [5], [6], [5], [4, 5, 7], [4], [2], [9], [2], [2], [3, 5, 7], [2], [0], [1], [1], [3], [7], [9], [3], [1], [6], [0, 2], [3], [3], [7], [2, 6], [4], [5], [2], [3], [6], [3, 4, 7], [3], [0], [4], [0, 1, 4, 9], [3, 5, 7], [8], [1], [2], [2], [2], [7], [8], [2, 3, 4], [4, 5], [6], [0, 2], [6], [6], [5], [4], [2, 4], [9], [7], [6], [2], [0], [4], [1, 9], [3, 5], [5], [6], [6], [5], [6], [9], [4, 6], [9], [4], [8], [3], [1], [9], [8], [1], [9], [0], [3], [0], [4], [7], [7], [2], [4], [5], [6], [9], [3], [7], [5], [7], [0], [8], [6], [3, 5], [8], [3], [8], [9], [2], [2], [9], [2], [7], [4], [1], [9], [7], [0], [0], [1], [2, 6], [0], [2, 6], [5], [1], [4], [2], [8], [2], [8], [3], [3, 7], [1], [4], [9], [8], [1], [1], [7], [9], [9], [4], [6], [8], [5], [6], [2, 6], [2], [0], [8], [5], [1], [9], [7], [9], [1], [3, 4, 5], [3], [1], [0], [3], [8], [1], [2], [0], [0, 2, 8], [0, 8], [8], [0], [4], [8], [3], [0], [5, 7], [0], [7], [0, 2], [5], [5, 7], [4], [3], [0], [9], [9], [0], [6], [7], [0], [8], [4], [4], [5], [2], [0, 2], [1], [0, 3, 4, 9], [5], [3, 6], [4, 7], [3], [4], [0], [8], [4], [8], [2], [5], [6], [5], [1], [7], [2], [4], [8], [5], [6], [8], [7], [6], [3], [1], [3], [3, 6], [6], [4], [5], [5], [3], [1], [8], [7], [3], [0], [2, 4], [7], [1], [1], [1], [6], [7], [2, 4, 6], [1], [2], [3], [0], [8], [3], [1], [7], [4], [8], [4], [7], [5], [8], [3, 6], [0], [5], [0], [2], [2, 6], [4], [4], [9], [4], [6], [1], [3], [7], [7], [9], [0, 2], [1], [3], [1], [3], [0], [4], [0], [7], [0, 1, 8], [3], [1], [4, 6], [2], [1], [8], [8], [1], [9], [7], [3], [3], [2], [9], [0, 2], [6], [8], [4], [1], [5], [7], [0, 2], [4], [7], [0, 8], [4], [9], [0], [7], [0], [2], [7], [1], [8], [5], [8], [8], [7], [0], [0], [2, 6], [2], [2, 3], [7], [0], [6], [4], [2, 4], [9], [1], [8], [6], [3], [9], [4], [9], [3], [3], [7], [5], [9], [7], [7], [4], [5], [8], [2], [8], [9], [5], [3], [1], [9], [0, 2], [2], [0], [1], [9], [8], [1], [1], [0], [8], [9], [9], [0, 8], [2], [6], [9], [1], [9], [0, 2], [1], [9], [2], [8], [9], [9], [0], [9], [9], [2], [1], [7], [0, 2], [5], [6], [6], [9], [8], [3], [0], [2], [0, 2], [7], [4], [8], [3, 5], [0], [4], [2], [3], [5], [7], [6], [6], [6], [5], [6], [3, 5], [4], [5], [8], [8], [0], [9], [3], [9], [8], [6], [9], [6], [1], [3], [7], [8], [0, 2], [3], [5], [7], [7], [6], [9], [8], [2], [3], [8], [3], [3], [7], [8], [3], [5], [3], [9], [6], [1], [0, 2], [7], [4, 7], [8], [7], [7], [1], [3], [0], [3], [0, 2], [2, 3, 4, 5], [4], [9], [3], [5], [4], [7], [0], [3], [7], [0], [2], [1], [0, 8], [8], [7], [3], [5], [7], [8], [5], [7], [8], [1], [3, 4, 7], [4], [7], [0, 2], [8], [3], [2], [9], [6], [4], [1], [6], [5], [9], [8], [5], [5], [4], [1], [0], [9], [4], [3, 6], [3, 4], [0, 8], [4], [0, 2], [0], [0, 8], [2], [9], [3, 4], [9], [7], [4, 7], [6], [6, 7], [9], [2], [9], [3], [7], [7], [8], [2], [4, 9], [8], [2], [5], [3], [6], [4], [3, 5, 7], [2], [3], [7], [8], [7], [2], [5], [0], [0], [7], [0], [3], [6], [1], [0, 8], [2, 5], [0, 4, 9], [7], [2], [9], [1], [0, 2], [8], [1], [2], [3], [2, 6], [5], [4], [0, 2, 3], [4, 8, 9], [3, 4, 5], [4], [4], [1], [2], [4], [9], [8], [4, 7], [9], [3], [1], [2], [1], [2], [6], [4], [5], [7], [4], [5], [8], [5], [6], [8], [7], [8], [2], [3], [6], [1], [3, 5], [3], [1], [5], [1], [9], [0, 2], [9], [0, 2], [0], [8], [2], [6], [8], [5], [7], [6], [1], [2], [9], [4], [5], [0], [3, 5], [3], [2, 3, 6], [0, 2], [7], [1, 9], [4], [3, 5], [0], [2], [8], [5], [0], [0], [6], [2], [0, 2], [8], [4], [5], [4, 7], [5], [6], [4], [7], [9], [4], [2], [0], [6], [2, 4], [0, 2], [0], [5], [4], [6], [1], [1], [5], [5], [2], [2], [6], [3], [4], [5], [0, 8], [1], [3, 7], [2], [4, 5, 7], [9], [6], [5], [0], [2], [9], [7], [1], [7], [2], [2], [0], [8], [6], [4], [3], [2], [4, 7], [7], [0], [4], [1], [6], [5], [1], [6], [0], [3, 5], [9], [0], [0, 2], [2, 3], [3, 4, 7], [0], [0, 4], [0], [1], [9], [8], [4], [9], [4], [2], [4], [3], [3], [4], [8], [4], [3], [3], [8], [9], [0, 1, 4, 6, 8, 9], [5], [8], [1], [8], [2], [4], [4], [2], [4], [1], [1], [6], [6], [9], [5], [2], [0, 2], [5], [0], [8], [2], [2, 3], [6], [2], [9], [6], [1], [4], [5], [9], [0], [1], [7], [0], [8], [1], [1], [6], [6], [9], [5], [4], [9], [7], [8], [6], [9], [1], [7], [6], [0], [4, 6, 9], [3], [2, 3, 5, 6], [3], [2], [0], [3, 5], [4], [9], [7], [1], [2, 4], [4], [6], [1], [3], [8], [8], [0], [6], [7], [7], [6], [7], [2], [8], [2], [4], [6], [2], [7], [3], [0, 2], [3], [6], [2], [6], [3], [2], [0], [9], [5], [1], [0, 1, 8], [5], [3], [0, 2], [4], [3], [0, 2], [1], [0], [4], [3], [5], [4], [8], [9], [3], [3], [0], [8], [0], [1], [3], [3], [4, 7], [4], [2, 4, 6], [9], [7], [6], [8], [1], [8], [9], [4, 9], [3], [1], [7], [3], [0], [0], [0, 2], [0, 8], [5], [9], [2], [7], [4], [6], [0], [1], [6], [1], [6], [7], [5], [5], [2], [4], [9], [4], [0], [0, 2], [0], [4], [0], [4], [1], [0], [0], [2], [3], [8], [9], [2], [8], [9], [5], [7], [9], [1], [4], [6], [2], [8], [6], [4], [8], [9], [3], [1], [1], [6], [2], [8], [4], [6], [4], [5], [2], [6], [4], [2], [3], [1], [4], [6], [8], [5], [2], [0, 2], [7], [1], [3], [2], [3, 5], [9], [2, 4, 6], [8], [1], [6], [9], [0, 8], [7], [5], [3], [2], [9], [7], [0], [0, 2, 3], [9], [3], [4], [1], [7], [9], [5], [8], [9], [7], [3, 5, 6, 8], [3], [0], [3, 7, 9], [7], [4], [2], [4], [7], [0], [0, 1], [8], [1], [0], [4], [6], [1], [9], [9], [0], [1], [2], [3], [6], [9], [7], [7], [3], [4], [2], [0], [2], [5], [7], [7], [4], [7], [1, 3, 9], [4], [2], [0], [6], [1], [7], [5], [6], [5], [5], [9], [0, 2], [7], [8], [5], [9], [2, 3], [8], [3], [4], [3], [7], [9], [8], [1], [2], [2, 4], [8], [9], [5], [0], [3], [4], [0], [2], [0], [1], [4], [0, 2, 3], [8], [5], [5], [7], [9], [8], [3, 7], [7], [9], [1], [5], [6], [9], [8], [7], [2], [0], [9], [0], [8], [5], [9], [2, 4], [0, 2], [9], [8], [1], [9], [1], [8], [3], [7], [6], [4], [0, 2], [3], [7], [0], [3, 5], [3], [8], [8], [8], [7], [9], [6], [2], [7], [4], [5], [7], [6], [7], [1], [5, 7], [3], [6], [8], [2, 3, 4, 5], [6], [6], [5, 7], [1], [3, 5], [9], [7], [8], [7], [8], [1], [6], [3], [3], [9], [0], [1], [2], [3, 5], [0, 2], [2], [2, 5, 6], [4], [9], [8], [7], [4], [4], [9], [7], [6], [7], [7], [1], [4], [3], [3, 5], [1], [9], [0], [3], [3], [1], [5], [2], [6], [2], [4], [6], [8], [8], [9], [6], [6], [1], [0], [7], [5], [8], [2], [1], [3, 5], [8], [1], [4], [7], [5], [0], [4], [8], [9], [5], [2], [8], [4, 7], [1], [9], [8], [4], [4], [8], [2], [9], [0], [7], [9], [8], [7], [1], [6], [2], [9], [0, 2], [5], [9], [7], [6], [7], [7], [1], [1], [2], [4], [2], [0], [6], [8], [3, 5, 7], [6], [4], [2], [9], [8], [2], [7], [0, 2], [0], [5], [8], [6], [8], [2], [7], [7], [3], [1], [8], [1], [6], [3], [9], [7], [8], [9], [6], [5], [8], [1], [9], [4], [0], [4], [1], [4], [3], [6], [2], [2], [0], [0], [0], [7], [0], [7], [0, 4], [3], [2, 3, 4, 6], [7], [7], [4], [5], [4], [3], [6], [5], [4], [0], [0], [0], [7], [5], [1], [6], [3, 5], [0], [7], [7], [4], [6], [1], [8], [5], [9], [2], [5], [6], [2], [2], [7], [3], [5], [8], [1], [0], [6], [8], [7], [8], [8], [5], [7], [3], [0, 4], [9], [7], [3], [3, 5], [8], [8], [3], [9], [4], [7], [2], [0], [8], [0], [7], [0, 8], [3, 5], [2, 6], [5], [2], [2], [5], [0], [3], [8], [2], [4], [0], [6], [4], [5, 7], [6], [0], [8], [0, 2, 8], [0], [6], [1], [1], [6], [1], [4], [2], [1], [2, 5], [2], [3], [4, 7], [0, 2], [7], [8], [8], [5], [1], [8], [2], [3], [3], [9], [6], [6], [3], [0], [7], [3], [3], [2], [7], [4], [5], [6], [0], [2], [1], [8], [1], [0], [9], [3], [1], [0], [5], [4], [2], [3, 7], [3], [6], [7], [0, 2], [0], [0], [5], [7], [2, 4, 6], [7], [7], [0], [6], [1], [5, 7], [9], [0], [9], [0], [3], [8], [4], [0], [8], [4], [1], [0], [2], [2], [4], [1], [1], [2], [4], [3], [4], [1], [4], [7], [1], [0], [0, 2], [9], [0], [4], [2], [8], [8], [5], [5], [0], [4], [0], [8], [6], [2], [5], [9], [2], [9], [1], [1], [5], [4], [7], [5], [8], [6], [2, 4, 7], [1], [5], [5, 7], [3], [4], [1], [0, 8], [9], [9], [8], [6], [8], [6], [8], [5], [8], [9], [4], [6], [2, 4], [8], [3, 5], [7], [4], [0], [0], [1], [7], [5], [1], [5], [1, 9], [3], [1], [6], [8], [2], [3], [6], [9], [1], [0, 2], [3], [1], [7], [2], [3, 6], [1], [9], [0], [0, 2], [8], [9], [9], [0], [8], [6], [5], [5], [2], [0], [3], [3], [0], [4], [4], [7], [5], [0, 2], [1], [3], [8], [8], [1], [2], [1], [5], [4], [5], [9], [6], [7], [1], [0], [6], [9], [2, 3, 4], [7], [7], [3], [9], [9], [1], [9], [7], [0], [1], [3], [3], [4], [6], [3], [8], [8], [0], [4], [8], [3, 5], [6], [3, 7], [3, 8], [0], [4], [5], [2], [6], [8], [4], [9], [9], [9], [6], [0], [6], [2], [8], [1], [1], [0], [0], [3], [7], [4], [1], [1], [9], [4, 7], [7], [4, 6], [6], [8], [6], [0, 2], [2], [8], [5], [0, 2], [3, 5], [3], [5], [7], [9], [8], [4], [4], [3], [1], [4], [8], [4], [6], [5], [3], [0, 2], [8], [9], [3], [7], [6], [2], [0], [4], [9], [9], [0], [5], [2], [3], [2], [1], [1], [0], [2], [8], [2], [1], [1], [7], [5], [2], [3], [3, 4, 6], [1], [2], [3, 9], [2, 4], [1], [0, 4, 9], [4], [8], [9], [0, 2, 4, 9], [0], [4], [9], [0], [2], [2], [0, 2], [6], [8], [7], [4], [3], [8], [9], [0], [2, 5], [0, 2], [3], [6], [1], [3], [9], [5], [0], [5], [4], [4], [0], [1], [2, 3, 5], [2, 6], [1], [7], [9], [9], [6], [2], [4], [7], [8], [3, 5], [4], [7], [0, 2, 3], [2, 4], [8], [4], [8], [5], [8], [8], [8], [3], [3], [5], [7], [3], [0, 2], [4], [1], [5], [9], [7], [0], [6], [8], [3, 4], [9], [0], [1], [8], [9], [6], [3], [9], [2], [4], [4], [0], [3, 5], [3], [4], [4], [5], [1], [1], [8], [2], [2], [9], [3], [7], [8], [9], [2], [2, 3], [1], [7], [3], [0, 2], [2, 3], [0, 2], [1], [0, 1, 4, 9], [5], [5], [3], [4], [9], [8], [0], [0], [2, 4], [1], [3, 5], [3, 4], [3, 7], [4], [2, 3, 4, 6], [8], [2, 4], [8], [9], [9], [4], [2], [4], [2, 3, 4, 5], [6], [4], [6], [4], [6], [6], [7], [8], [7], [4], [8], [0, 2], [5], [9], [3], [2], [0], [7], [5], [1], [1], [5, 7], [9], [1], [0, 1, 8], [4], [2], [1], [6], [4], [6], [0, 2, 3], [1], [4], [0, 1, 8], [6], [1], [7], [1], [3, 5], [2, 3, 4, 5], [4, 7], [3], [3], [9], [7], [8], [2], [5], [3], [4], [5], [4], [2], [7], [2, 3, 4, 6], [5], [7], [1], [5, 7], [7], [8], [3, 5], [6], [0], [2], [5], [2], [3], [7], [4], [7], [1], [6], [8], [6], [8], [3, 4], [2], [7], [7], [9], [7], [1], [4], [7], [7], [6], [1], [7], [3], [0], [0], [6], [6], [8], [6], [6], [0], [3], [4], [7], [4], [8], [2, 4], [9], [9], [3, 5], [4], [1], [4], [8], [3], [7], [1], [2], [2], [8], [4], [7], [8], [5], [5], [6], [5], [6], [0], [6], [4], [9], [0], [2], [7], [3], [8], [7], [9], [4], [1], [6], [9], [9], [4], [3], [9], [8], [1], [6], [9], [2, 5], [9], [0], [9], [7], [2, 3, 5], [2, 4, 5], [4], [2, 4, 6], [6], [4], [8], [1], [9], [5], [6], [4, 7], [1], [8], [6], [0], [7], [6], [7], [0, 8], [3, 4], [4, 7], [6], [1], [2], [8], [1], [6], [4], [9], [0], [2], [9], [1], [0], [5], [3], [1], [6], [9], [8], [9], [0], [6], [1], [6], [2, 6], [3], [5], [6], [1], [0], [7], [2], [2, 4], [8], [3], [3, 6], [8], [6], [9], [1], [9], [0], [6], [2], [3], [9], [5], [2], [1], [9], [2], [0], [7], [3], [5], [1], [8], [3], [0], [5], [0, 2], [8], [8], [0, 2], [9], [6], [0], [3], [5], [3, 5], [4], [1], [3, 5], [0], [7], [2], [9], [4], [5], [3], [1], [4], [4], [4], [9], [9], [7], [1], [7], [0], [1], [2], [0, 2], [5], [3], [8], [4], [1], [5, 7], [9], [9], [9], [7], [0], [1], [7], [6], [0, 2], [6], [5], [0], [0, 2], [1], [0, 2, 3], [8], [9], [1, 8], [8], [8], [8], [5], [9], [2], [9], [1], [3], [6], [7], [6], [7], [8], [6], [2], [4], [2], [3], [5], [5], [4], [1], [6], [4], [1], [0, 2], [1, 8], [7], [1], [6], [2], [3], [0], [4], [2], [9], [7], [3], [5], [6], [0], [8], [8], [1], [1], [3], [5], [6], [3, 5], [3], [8], [7], [3, 5], [0], [7], [4, 6, 7], [5], [7], [1], [9], [9], [1], [8], [9], [3], [5], [2, 5], [3], [0], [3], [0], [6], [6], [4, 6, 7], [6], [8], [9], [4], [2, 5], [1], [1], [2], [6], [9], [0], [1], [0, 2], [5], [4], [4], [7], [4], [8], [3], [2], [2, 3, 4], [4], [3], [7], [0], [1], [2], [9], [8], [9], [7], [3], [5], [9], [1], [9], [1], [1], [7], [6], [7], [4, 7], [0], [3], [5], [6], [7], [0], [1], [3, 7], [7], [2, 5], [5], [3, 6], [5], [1], [7], [6], [8], [4], [4], [5], [2, 3, 4, 5], [3], [4], [2], [7], [3], [6], [0, 2, 3], [7], [2], [6], [7], [4], [1], [8], [0], [2], [2, 4], [1], [5], [4], [0], [9], [6], [0, 4], [0, 4], [2], [3], [8], [5], [0], [0], [4], [6], [3], [9], [2], [0], [5], [7], [3], [5], [1], [7], [3], [1], [6], [7], [9], [0], [0, 2, 7, 9], [2], [1], [4], [6], [1], [5], [9], [5], [0], [4], [9], [2, 3, 4], [9], [7], [1], [6], [8], [0], [6], [5], [0, 2], [8], [1], [7], [5], [6], [9], [3, 5], [2], [3], [9], [7], [6], [1], [0], [9], [0], [9], [8], [7], [7], [2, 5], [2], [3], [3, 7], [2, 4, 5], [7], [8], [7], [5, 6, 7], [9], [1], [9], [8], [6], [5, 7], [6], [7], [3, 5], [3, 6], [7], [0, 2], [3, 5], [9], [6], [6], [7], [0], [1], [0], [1], [3], [4, 6], [2], [6], [1], [2], [3, 5, 6], [1], [9], [9], [8], [6], [8], [6], [8], [9], [0], [4], [0], [3], [5], [6], [4], [3], [9], [7], [2], [5], [5], [6], [4], [6], [0], [3], [2], [5], [0], [2, 4], [0], [2], [7], [2], [9], [2], [3, 5], [0], [6], [6], [7], [4], [5], [3, 5], [9], [1], [1], [4], [3, 4, 5], [3], [5], [3, 4], [8], [0], [0], [3], [9], [2], [7], [4, 7], [0, 2], [8], [0, 2, 3], [6], [3], [1], [9], [6], [3], [0, 8], [3, 4], [0, 2], [4], [7], [5], [0, 4], [5, 6], [2], [1], [3, 4, 5, 7], [6], [1], [2], [0, 2], [0], [7], [3, 5], [0], [0, 2, 3], [0, 8], [1], [2], [3], [5], [8], [4], [3], [1], [7], [6], [0], [4], [0], [4, 7], [1], [4], [0], [1], [6], [1], [7], [7], [9], [8], [7], [5], [4, 7], [0], [9], [0], [0], [8], [2], [0], [0], [2], [4], [8], [6], [2], [4], [6], [3], [5], [1], [3], [3, 5], [5, 7], [2], [0, 2], [9], [8], [0, 2], [0, 8], [0, 4], [3], [4], [4, 7], [6], [1], [6], [3], [4], [2, 4, 6], [2], [9], [7], [0], [8], [0], [4], [6], [5], [7], [9], [7], [0], [5], [7], [7], [3], [1], [9], [3, 6], [0, 2], [9], [5], [3], [7], [9], [4], [4], [0], [7], [7], [1], [4], [1], [8], [8], [7], [0, 8], [0], [4], [3, 7], [2], [9], [7], [6], [9], [3], [5], [8], [0], [4], [6], [8], [3], [2], [4], [7], [1], [1], [3], [9], [7], [0, 2, 3], [1], [8], [8], [7], [0], [1], [6], [9], [3], [2], [7], [7], [8], [1], [0, 4], [3], [2], [6], [7], [5], [2], [0], [1], [5], [5], [1], [4], [1], [3], [0], [8], [6], [2, 3], [1], [3, 4, 6], [3], [4], [1], [9], [8], [4], [1], [0], [1], [9], [8], [6], [9], [0, 2], [4], [7], [2], [0, 2], [7], [7], [9], [1], [2, 5], [2], [6], [3], [6], [4], [1], [3], [8], [2, 6], [6], [6], [1], [6], [3], [6], [3], [8], [2], [6], [7], [1], [9], [5], [6], [7], [6], [0], [7], [1], [9], [5], [2], [4], [7], [7], [6], [5], [9], [1], [3], [6], [0], [0, 2], [0, 2], [9], [1], [8], [6], [5], [3], [0], [0], [5], [7], [7], [8], [5], [3], [5], [1], [6], [1], [5], [1], [0], [6], [2], [3], [2], [1], [3, 7], [5], [1], [9], [8], [3], [0, 2], [9], [7], [3, 5], [0], [0, 2], [6], [9], [4], [4], [3], [9], [6], [8], [6], [6], [8], [5], [4], [5], [6], [7], [7], [4], [6], [9], [6], [2], [4], [0], [1], [3], [6], [4], [9], [2], [6], [0], [2, 4, 7], [8], [7], [5], [3], [3, 5], [8], [3], [2], [6], [3], [6], [2], [7], [4], [5], [7], [9], [0], [0, 2], [6], [7], [8], [0], [5], [3, 5], [7], [5], [5], [9], [2, 4], [6], [4], [7], [2, 3], [5], [6], [4], [1], [6], [0, 2, 3], [1], [6], [7], [0], [5], [0], [1], [9], [7], [3, 6], [5], [2], [3], [9], [5], [3], [2], [0], [0], [0, 2], [8], [0], [3], [2], [4], [3, 5], [3], [7], [9], [6], [9], [3], [1], [2], [6], [7], [4], [5], [1], [3], [7], [0, 2], [9], [0, 2], [8], [2, 5], [8], [5], [8], [5], [6], [5], [0], [8], [6], [8], [1], [8], [1], [5], [0], [9], [8], [6], [3], [6], [5, 6], [4], [4], [7], [4], [7], [3, 4], [3], [2], [4], [4], [5], [7], [3, 5], [0, 8], [3, 5], [8], [0], [5], [4], [0], [5], [4], [3], [3, 5], [0, 2], [2, 4], [2], [9], [4], [8], [8], [6], [0, 2], [6], [1], [7], [0, 8], [4], [0, 3], [8], [5], [9], [7], [6], [4], [1], [0], [0, 2], [3], [3, 5], [6], [7], [1], [6], [2], [8], [3], [7], [2], [5], [7], [5], [7], [7], [1], [7], [4], [3, 5, 7], [3], [4], [0], [4], [2], [7], [0], [5], [2, 4], [6], [6], [2], [5], [2], [6], [0], [6], [1], [2], [9], [0], [0], [1], [3], [5], [1], [6], [7], [8], [4], [6], [3], [3], [6], [0, 2], [9], [9], [2], [2], [6], [1], [4], [6], [2], [5], [7], [8], [8], [3], [6], [3, 4], [3], [2], [3], [2, 6], [4], [4], [8], [9], [2], [6], [0], [9], [7], [9], [8], [7], [7], [3], [8], [2], [9], [3], [2, 3], [7], [5], [8], [7], [3], [7], [0], [7], [0, 1, 8], [6], [2], [4, 7], [0, 2, 3], [0], [2], [9], [8], [2], [8], [0], [7], [2, 5], [5], [0], [1], [2], [9], [6], [1], [0], [1], [0], [6], [3, 5], [0], [5], [7], [4], [4], [8], [7], [5], [3], [7], [2], [3, 5], [8], [3], [5], [7], [3], [7], [0], [5], [4], [3], [6], [9], [3], [5], [3], [8], [2], [4], [6], [3], [4], [7], [6], [0], [5], [5], [8], [4], [5], [6], [1], [3], [5], [4], [7], [3], [0], [7], [2], [8], [1], [2], [4], [9], [6], [4], [5], [9], [5, 7], [4, 7], [2], [2, 4, 7], [4], [3], [1], [6], [9], [4], [8], [0], [3, 5], [9], [3, 6], [4], [4], [2, 3, 4], [1], [4, 5], [6], [3, 5], [0], [8], [0], [7], [6], [8], [4], [8], [1], [2], [5], [9], [3, 5], [7], [1], [4], [5], [2, 4], [9], [2, 3, 4, 6], [6], [4], [7], [1], [6], [9], [3], [1], [0, 8], [8], [7], [7], [0, 8], [0], [5], [4], [6], [7], [7], [2], [4], [4], [4], [3], [6], [6], [1], [9], [9], [7], [9], [4], [3], [2], [9], [8], [5], [0], [6], [9], [0], [9], [7], [8], [5], [4], [4], [9], [0, 4], [2, 6], [3, 6], [6], [9], [9], [7], [9], [9], [0], [5], [1], [1], [8], [6], [9], [9], [5], [6], [5], [5], [9], [7], [9], [4], [5], [4], [3], [3], [9], [8], [8], [3], [7], [8], [4], [0], [2], [0], [7], [0, 2], [8], [0], [2], [0], [7], [4], [0], [6], [0, 2], [3], [6], [7], [4], [6], [4], [0], [2, 4], [9], [5], [6], [6], [0], [0], [5], [2], [6], [3], [3], [0], [0, 2], [8], [3, 5], [4], [2], [9], [2, 3, 5], [0], [5], [4], [8], [2], [9], [6], [2, 5], [7], [8], [2], [0], [1], [8], [2], [4], [8], [4], [3], [0], [4], [0], [1], [9], [3], [0], [3], [4], [5], [5], [2], [8], [3], [0], [9], [4], [5], [2], [4], [3], [7], [8], [2], [3, 5], [1], [0], [0], [0, 2, 3], [1], [2], [1], [4], [6], [7], [1], [0], [5], [2], [5], [9], [2], [5], [6], [7], [1], [0], [3], [6], [1], [0], [2], [9], [4], [2], [9], [3], [8], [2], [9], [8], [3], [1], [0], [1], [5], [2], [5], [6], [8], [0, 8], [3], [2], [0], [4], [1], [3], [7], [0, 2], [2, 3], [3], [9], [2], [3], [9], [9], [8], [5], [9], [2, 3, 5], [2], [3, 4, 9], [9], [4], [7], [1], [4], [6], [7], [4], [8], [9], [0, 2], [7], [1], [2], [2, 4, 6], [7], [3], [7], [3], [1], [9], [3], [3], [2], [4], [1], [1], [3, 5], [3], [9], [2], [5], [0, 8], [0, 2], [8], [1], [3, 5], [1], [3, 5], [9], [0], [9], [0, 2], [3, 4], [0, 2], [6], [9], [1], [1], [3], [3], [9], [5], [3], [3, 6], [6], [3, 5], [4], [1], [3], [9], [8], [7], [2, 5], [8], [7], [6], [5], [2], [5], [8], [9], [7], [2], [0], [0], [7], [5], [3], [5], [7], [7], [6], [2], [8], [8], [7], [7], [6], [1], [3], [8], [6], [0, 2], [0], [0], [0, 2], [8], [3, 5], [4], [0], [2], [5], [4], [9], [2], [4], [4], [6], [9], [2], [0], [5], [2], [0, 2], [8], [2], [2, 4, 6], [4], [7], [9], [5], [7], [2], [2, 6], [2], [1], [9], [9], [7], [2], [5], [1], [8], [1], [6], [3], [0], [8], [8], [5], [6], [9], [9], [9], [6], [3], [0], [8], [8], [5], [3], [3], [1], [1], [0], [7], [0], [6], [0], [4], [4], [6], [5], [3], [2], [9], [6], [6], [7], [9], [7], [7], [0], [8], [4, 7], [2], [7], [7], [7], [4], [0], [1], [6], [0], [5], [3], [0, 2], [2], [4], [9], [7], [2, 3], [3], [2], [8], [8], [5], [3], [8], [0], [8], [0, 8], [0], [0], [2], [2], [0, 2, 4, 9], [0], [7], [7], [7], [2, 4, 7], [2], [0], [4], [0], [3], [7], [8], [4], [7], [9], [6], [1], [1], [6], [9], [3], [8], [9], [5], [8], [3], [1], [3], [2], [7], [3], [5], [2], [0, 2], [5], [7], [9], [6], [2], [0, 8], [8], [4], [5], [6], [1], [0], [7], [8], [4], [7], [3], [3], [2], [0], [9], [1], [8], [9], [6], [8], [1], [7], [1], [0], [0, 1], [7], [6], [4], [4], [8], [2], [1], [2], [6], [8], [1], [1], [8], [8], [8], [9], [8], [0], [2], [3], [3], [5], [6], [6], [3], [1], [4], [4], [7], [8], [0, 2], [1], [4, 6], [8], [4], [6], [2], [2], [2], [6], [3], [4], [0], [8], [9], [3], [2], [3, 6], [8], [8], [1], [6], [1], [9], [8], [2], [0], [4], [7], [4], [0], [8], [4, 7], [6], [8], [9], [8], [6], [2], [8], [8], [2, 3], [1], [1], [0], [7], [5, 7], [4], [4], [7], [7], [2], [6], [6], [7], [4], [5], [2, 3, 4], [0], [9], [3, 4], [7], [2], [7], [2], [2], [2], [7], [6], [6], [6], [4], [9], [6], [8], [3, 5], [8], [5], [5], [2], [3], [4], [2, 5], [2, 3], [7], [5], [1], [5], [3], [7], [8], [8], [0, 4, 9], [6], [0], [8], [2], [6], [0], [0, 8], [1], [4], [1], [3], [5], [1], [8], [9], [6], [2, 4], [6], [9], [5, 7], [6], [5], [9], [1], [4], [2], [8], [9], [5, 7], [4], [7], [8], [3], [7], [1], [6], [9], [0, 2], [9], [4], [0], [5], [1], [6], [3], [0, 8], [2], [4, 7], [3, 5], [5], [2], [0, 2], [2], [2], [1], [2], [6], [7], [0], [8], [9], [2], [6], [3], [7], [5], [5], [8], [8], [7], [8], [5], [7], [4], [4], [0], [0], [7], [0], [4], [0], [4], [4], [2], [3], [4], [0], [7], [7], [7], [0], [4], [3, 6], [2], [4, 8, 9], [1], [1], [3, 5], [0, 2], [9], [1], [0], [6], [3], [3, 5], [0], [9], [0], [6], [2], [2], [4], [1], [6], [7], [6], [1], [0], [4], [6], [0], [4], [4], [2], [7], [6], [4], [3], [5], [9], [4], [5], [2], [0], [5], [7], [2], [3, 5], [9], [4], [5], [8], [1], [9], [3], [2, 5], [8], [5], [8], [6], [6], [3], [4], [0], [2], [3], [2], [6], [1], [8], [2], [1], [2, 3, 5], [3], [3], [2], [3, 5], [3], [5], [0], [2], [1], [0, 2], [8], [0], [8], [2], [2], [3, 5, 7], [5], [7], [9], [8], [2, 4], [6], [1], [7], [8], [6], [3], [5], [8], [9], [4], [8], [0], [0, 2], [2], [0], [1], [8], [3], [7], [2], [8], [2, 4], [9], [6], [8], [9], [2], [8], [9], [3, 5], [4], [8], [9], [5], [5], [7], [2], [5, 7], [8], [8], [1], [2, 6], [3], [1], [5], [0], [2], [2, 3], [0], [8], [2], [2], [8], [7], [3], [5], [0, 2], [9], [6], [2], [5], [1], [1], [7], [7], [8], [3], [8], [2, 3, 9], [6], [0], [8], [0], [6], [6], [4, 7], [6], [9], [1], [1], [7], [0], [6], [8], [9], [0], [6], [9], [0], [1], [1], [7], [2], [1], [0], [2, 4], [5], [0, 2], [3], [6, 8], [3], [3], [8], [1], [8], [1], [3, 6], [1], [5], [4], [5], [1], [8], [9], [9], [3, 5], [1], [7], [0, 2], [9], [8], [9], [2, 4], [6], [8], [9], [4, 5, 7], [0, 2], [4], [3, 6], [2], [1], [2, 6], [0, 2], [0, 8, 9], [5], [6], [0], [4], [4], [6], [9], [3, 4], [7], [9], [0], [3], [6], [5], [7], [0, 8], [5], [1], [2], [2], [9], [7], [0], [0], [1], [4], [4], [5], [5], [9], [6], [3], [6], [0, 2], [6], [9], [3], [3, 5], [3], [8], [4], [9], [5], [2], [1], [6], [6], [4], [7], [6], [7], [6], [8], [1], [4], [6], [4], [4], [5], [6], [2], [0], [5], [2], [7], [5], [2], [5], [0, 2], [5, 7], [9], [0], [6], [7], [9], [8], [3], [2], [1], [4], [2, 5], [4], [5], [5], [6], [8], [6], [0], [0], [9], [8], [0], [7], [7], [6], [2, 6], [0, 2], [5], [9], [8], [2, 4], [9], [5], [6], [0], [4], [8], [2], [0, 2], [9], [1], [3], [9], [8], [0], [7], [4], [4], [0], [2], [1], [9], [1], [8], [5], [8], [4], [7], [3], [1], [4], [3], [3, 4], [0, 1], [0], [8], [8], [8], [8], [1], [6], [7], [3], [8], [6], [9], [1], [6], [0], [7], [7], [1], [3], [3], [3], [1], [0], [2], [7], [9], [2], [2], [9], [6], [3], [5], [9], [4], [8], [0], [4], [8], [0], [1], [2], [7], [0], [4], [0, 2], [0, 2], [8], [6], [4], [3], [9], [8], [2], [2], [8], [3], [1], [1], [0, 2], [0, 8], [0, 2], [6], [9], [6], [8], [4], [4], [1], [5], [2], [6], [9], [0], [0], [7], [1], [8], [9], [3, 5], [9], [9], [0], [7], [7], [8], [4], [0, 2], [6], [4], [5], [7], [7], [8], [7], [2, 4], [6], [2], [2], [4], [4], [0], [7], [1], [5], [9], [6], [0], [0], [3], [0], [8], [2, 4, 6], [2], [4], [3], [5], [0], [1], [1], [0], [0], [3], [5], [0], [7], [9], [9], [6], [5], [5], [0], [6], [7], [1], [6], [6], [4], [0, 1], [4, 6], [4], [1], [5], [0], [0], [4], [3], [8], [0, 2], [8], [3], [0], [5], [0], [5], [3, 6, 8], [1], [6], [7], [0], [9], [1], [5], [7], [6], [5], [5], [5], [6], [0], [0], [1], [7], [3], [1], [9], [0, 2], [4], [1], [6], [7], [8], [2, 4], [0], [9], [6], [6], [0], [6], [5], [8], [2], [7], [7], [0], [2], [7], [7], [8], [8], [7], [0], [4], [9], [1], [4], [2, 4], [3, 5], [2, 3, 4, 5, 7], [4], [6], [2], [3], [1], [0], [3], [3], [3], [6], [5], [1], [2], [0, 8], [0, 8], [7], [9], [3], [8], [7], [3], [1], [7], [7], [0, 2, 3], [2], [2], [8], [9], [5], [9], [6], [9], [7], [4], [4], [0], [2, 4, 7], [7], [1], [5], [4], [0, 2], [8], [4], [9], [8], [7], [8], [4], [2], [3], [4], [0, 4], [5], [4], [1], [8], [2], [5], [4], [5, 7], [2], [5], [3], [7], [9], [7], [1], [4], [9], [3], [1], [4], [3, 5], [5], [1], [7], [1], [3], [0], [0, 2, 4, 9], [2], [3], [7], [0], [6], [3], [5], [7], [5], [5], [8], [9], [4], [6], [3], [6], [6], [8], [2], [6], [4], [8], [4], [1], [3], [9], [2], [3], [2, 3, 6], [0, 2], [1], [6], [4], [2], [8], [2], [4], [4], [1], [4], [4], [4], [4], [0, 1], [5], [5], [7], [6], [5], [4], [5], [6], [5], [6], [2], [4], [7], [7], [4], [6], [5], [0], [2], [3], [9], [2], [3], [8], [0], [7], [0, 2], [6], [8], [1], [2], [8], [9], [1], [5], [4], [2], [3], [5], [5], [2, 3], [6], [5], [0], [3, 5], [2, 4, 5, 7], [1], [3], [3, 5], [7], [7], [4], [0], [4], [5, 7], [9], [5], [1], [7], [6], [6], [4], [8], [4], [1], [2, 3, 5], [8], [6], [2], [3, 5], [5], [3, 5], [0], [4], [8], [7], [2, 3], [9], [3], [8], [4], [3], [9], [1], [8], [0, 3], [1, 9], [3], [8], [0, 2], [2], [5], [4], [6], [9], [2], [7], [2], [0], [3, 5], [2, 6], [8], [7], [5], [0], [7], [0], [3], [5], [3], [4], [8], [7], [7], [1, 9], [6], [5], [8], [9], [0, 2], [1], [9], [4], [0], [0], [9], [7], [2], [2], [8], [5], [6], [8], [2], [8], [0], [6], [6], [8], [6], [9], [5], [1], [1], [5], [3], [3, 5], [0], [7], [6], [1], [2], [4, 6], [1], [1], [8], [1], [1], [2], [3, 5], [4], [9], [9], [3, 5], [2], [7], [2], [3], [3, 6], [9], [6], [9], [8], [8], [6], [7], [4], [7], [2], [3, 4], [8], [0, 2], [9], [0], [7], [8], [1], [2], [3], [8], [2, 4], [2], [9], [0], [0, 4], [8], [9], [6], [5], [5], [2], [4], [1], [0], [6], [1], [8], [4], [5], [6], [5], [0], [8], [9], [0], [2, 4, 5, 7], [7], [9], [6], [3, 5], [4], [6], [4], [9], [3, 5, 7], [1], [0, 2], [5], [0, 2], [1], [0], [3], [0, 2], [9], [8], [1], [9], [7], [7], [3, 6], [1], [4, 7], [1], [9], [3], [8], [8], [1], [9], [3], [8], [9], [3, 5], [1], [1], [6], [2], [7], [6], [6], [2, 4], [6], [9], [6], [0], [1], [0, 2], [9], [3], [8], [8], [8], [2], [9], [1], [6], [6], [0], [5], [0], [7], [4, 7], [7], [9], [4], [5], [0], [0, 2], [3], [3, 5], [3], [8], [9], [9], [2], [8], [1], [3], [4], [6], [9], [1], [3, 7], [7], [1], [9], [5], [8], [8], [9], [9], [7], [9], [8], [2, 3], [0], [2], [6], [0, 2], [2], [2], [4], [0], [8], [3, 4], [8], [1], [7], [7], [2], [7], [9], [5], [2], [0, 2], [9], [2, 4], [6], [5], [7], [0, 2], [5], [6], [5], [1], [8], [2], [6], [8], [6], [3, 5], [0], [8], [0], [0], [0, 1], [0, 2], [6], [8], [8], [6], [6], [0], [7], [9], [8], [0], [5], [0], [9], [6], [0], [4], [7], [1], [7], [8], [8], [2], [3], [9], [4, 6], [5], [5], [3], [1], [5], [3], [0], [2], [5], [2], [7], [3], [8], [4], [4], [6], [1], [9], [4], [1], [7], [0], [0, 1, 9], [0, 4], [5], [0], [2], [9], [4], [5], [0], [3], [3, 5], [7], [0, 2], [3], [0], [1], [4], [7], [9], [9], [0, 8], [7], [5], [6], [7], [1], [2, 3], [3, 6], [7], [2], [6], [8], [4], [9], [8], [4, 7], [9], [0, 2], [3], [4], [0], [2], [5], [6], [0], [5], [3], [5], [8], [3], [4], [4], [9], [3, 5], [6], [3], [8], [6], [1], [8], [4], [3, 5], [8], [6], [5], [9], [0], [4], [5], [0], [5], [9], [9], [3], [8], [0], [6], [0], [2], [0, 3], [7], [8], [0, 4], [6], [9], [1], [5], [0, 2], [2, 4, 6], [7], [9], [3], [9], [3], [5], [0], [0, 2], [2], [8], [8], [5], [0], [0], [7], [0], [3], [1], [6], [3], [0, 2, 3], [9], [2], [6], [7], [4], [0, 2], [0], [0], [7], [2, 3, 4, 5, 6, 7], [3], [2], [6], [4], [2], [7], [8], [0], [1], [0], [1], [3], [6], [2, 4], [8], [0], [6], [0], [9], [1], [6], [2], [1], [0], [1], [3], [0], [3, 4, 5], [7], [9], [9], [3], [7], [5], [7], [1], [6], [6], [9], [8], [1], [4], [4], [0, 2], [1], [7], [0], [1], [2], [0, 1], [1], [3], [2], [6], [7], [0, 1, 9], [3], [2], [0, 2], [8], [7], [3], [4], [6], [4, 6, 7], [6], [9], [4, 7], [8], [9], [3, 5], [0], [5], [7], [2], [0], [0, 2], [1, 9], [9], [3], [8], [7], [1], [1], [2], [2], [2], [3, 5, 6], [9], [1], [2], [6], [1], [6], [1], [8], [9], [2], [3], [1], [9], [9], [3, 5], [4], [3, 5, 7], [0, 2], [0], [3], [2, 3, 4, 6], [7], [1], [7], [7], [9], [8], [1, 6], [3, 5], [5], [5], [1], [6], [2], [7], [8], [4], [3, 5], [3], [5], [9], [8], [8], [5], [1], [0], [6], [7], [0], [9], [6], [0, 2], [0], [8], [7], [1], [2], [6], [9], [1], [6], [2, 4], [7], [1], [9], [0], [0], [3], [2], [8], [3], [8], [4], [0, 8], [4], [0], [8], [3], [6], [1], [2, 3, 5], [3], [0], [5], [0], [4, 7], [1], [7], [0, 2], [0], [1], [3, 5, 7], [9], [0, 1, 9], [6], [1], [6], [1], [2], [8], [7], [0], [9], [5], [0], [0], [0, 2], [1], [2], [9], [7], [1], [9], [2], [1], [9], [0, 4], [3], [6], [0], [2], [0], [0], [9], [3], [8], [9], [4], [5], [3], [3], [0], [7], [8], [7], [3], [7], [3, 5, 7], [4], [6], [5], [9], [2, 3, 5], [2], [4], [5], [7], [9], [6], [7], [0, 4], [7], [1], [0, 2], [3], [1], [1], [3], [6], [8], [3], [7], [7], [0], [8], [1], [5], [2], [3, 4, 5, 6], [5], [3], [6], [3], [3, 5], [9], [8], [4], [6], [8], [0], [3], [1], [7], [8], [3, 4], [9], [3], [2], [6], [3, 6], [8], [8], [6], [3, 7], [3], [0, 8], [1], [1], [5], [3], [7], [9], [9], [9], [8], [5], [9], [9], [6], [8], [8], [3, 8], [8], [1], [0, 2], [1], [8], [8], [6], [5], [9], [0], [6], [1], [6], [6], [6], [2], [5], [3, 6], [3], [3, 5], [3, 5], [3], [6], [8], [9], [4], [4], [3], [8], [5], [6], [0], [8], [5], [7], [8], [4], [6], [5], [3], [1], [8], [3, 7], [0], [0, 4], [4], [3, 5], [3], [3, 5], [3], [3], [2], [7], [7], [8], [4], [0], [5], [6], [6], [1], [1], [3], [9], [9], [6], [6], [7], [8], [8], [3], [0], [8], [7], [8], [8], [0], [3], [2], [3, 4], [8], [7], [3], [7], [1], [8], [7], [0, 3], [2, 3, 6], [4], [4], [5], [8], [6], [1], [1], [6], [3], [2, 4, 6], [2], [8], [9], [8], [3], [3], [8], [1], [1], [0], [5], [2], [0], [3, 5], [0, 2], [3], [0, 2], [6], [3, 5], [9], [6], [6], [3], [0], [4], [8], [5], [3, 4], [5], [1], [0, 1], [2], [9], [7], [8], [5], [5, 7], [8], [4], [9], [0], [8], [0], [3], [1], [2], [3], [3], [3, 5], [3], [8], [3, 4, 9], [3, 4], [6], [4], [2], [4], [3], [8], [1, 9], [6], [2, 3], [6], [2, 4, 6], [5], [2], [7], [7], [4], [4], [9], [3], [8], [3, 6], [7], [7], [8], [5], [2, 3, 5], [9], [8], [6], [7], [3], [3], [3], [8], [5], [6], [0, 1], [3], [7], [9], [6], [1], [3, 6], [4], [7], [0, 2], [5], [7], [4], [9], [1], [0, 2, 3, 6], [0], [2], [7], [8], [5, 7], [2], [8], [6], [1], [6], [6], [4], [6], [2], [8], [8], [4], [4], [3, 7], [8], [5], [8], [9], [4], [3], [2], [3], [0, 1], [3], [0], [1], [1], [1], [1], [6], [8], [7], [1], [3], [0], [4], [5, 7], [0], [3, 5], [0], [6], [2], [0], [9], [8], [6], [8], [3], [8], [2], [0, 2], [6], [0], [2, 6], [1], [8], [7], [6], [2], [2], [6], [5], [6], [9], [2], [6], [4], [9], [8], [5], [3], [9], [3], [5], [7], [1], [8], [5], [8], [6], [2], [5], [1], [3], [0], [2, 3], [9], [8], [4, 5, 7], [4], [9], [2], [1], [4], [4], [5], [9], [8], [7], [2], [1], [6], [9], [7], [3], [6], [3, 4, 9], [8], [0], [2], [0], [4], [9], [0], [5], [3, 5], [4], [2], [0, 2], [1], [0], [3], [0], [4], [2], [6], [1], [5], [0, 2], [0], [2, 3, 5], [8], [1], [0], [4], [1], [9], [4], [8], [1], [1], [8], [5], [9], [0], [1], [6], [7], [2], [9], [9], [7], [8], [8], [1], [8], [7], [8], [8], [1], [6], [6], [3], [3], [1], [3], [0, 8], [8], [8], [2, 3], [6], [6], [7], [1], [0], [7], [6], [4], [8], [3], [0], [6], [6], [0, 8], [3, 6], [6], [1], [1], [8], [6], [3, 4, 6, 7], [0], [5], [4], [3], [2], [1], [7], [8], [2], [0, 2], [1], [7], [4], [8], [7], [6], [6], [7], [0], [0], [2, 4], [9], [0], [6], [3, 5], [1], [3], [8], [6], [8], [1], [9], [4], [7], [6], [5], [0], [6], [0], [1], [3], [1], [1], [5], [3, 6], [4], [3], [3], [8], [1], [6], [6], [1], [8], [8], [6], [2], [7], [4], [6], [8], [9], [3, 5], [4, 5], [3, 5], [7], [3, 5], [1], [4], [1], [0, 3, 4, 9], [5], [3, 5], [7], [7], [2, 4, 5, 6, 7], [5], [2], [2, 3], [2], [6], [6], [6], [4], [0], [7], [1], [7], [2, 6], [0], [0], [1], [4], [4], [1], [2], [2], [4], [9], [8], [2], [8], [7], [6], [3], [4], [7], [2], [3], [1], [5], [3], [0], [4], [3], [4], [9], [3, 4], [7], [9], [1], [7], [8], [3], [1], [8], [3], [0, 2], [5], [7], [2], [7], [9], [6], [8], [6], [8], [0], [5], [9], [0], [4], [8], [5], [6], [3], [3], [8], [0], [4], [8], [6], [7], [2], [2], [1], [7], [4], [1], [2], [4], [2], [2], [8], [7], [2], [0, 2], [6], [7], [7], [6], [8], [9], [0, 4, 9], [3], [5], [2], [9], [8], [7], [2], [2], [3], [7], [4], [3], [2], [8], [9], [0, 8], [1], [5], [3], [2], [6], [3, 5], [9], [0, 1], [3, 5], [4, 7], [3], [6], [2], [0], [9], [7], [8], [0], [8], [9], [1], [2], [5], [7], [2], [0], [6], [6], [1], [6], [7], [6], [5], [0], [0], [7], [0, 2], [6], [5], [6], [4], [8], [3], [0, 2], [5], [5], [0, 2, 3], [6], [6], [7], [3, 5], [0], [9], [9], [6], [1], [0], [2, 4, 5, 7], [6], [2, 5, 7], [2, 3], [9], [2], [6], [6], [8], [2], [5, 6], [0], [1], [9], [2], [7], [4], [3], [0], [0, 2], [7], [6], [4], [2, 3], [0, 1], [8], [2, 4], [0], [0], [9], [6], [6], [6], [8], [7], [4], [1], [8], [1], [2], [2], [4], [8], [5], [2], [6], [5], [7], [9], [8], [0], [7], [2], [2, 4], [2, 4], [0], [0], [4], [2], [2], [4], [0], [5], [9], [4, 7], [1], [8], [4], [5], [5], [9], [8], [5], [7], [8], [0], [9], [8], [9], [1], [6], [3], [8], [0, 2], [3], [3, 4], [4], [8], [4], [8], [9], [8], [6], [0], [0], [8], [2], [0], [4], [2, 4], [5, 7], [6], [0], [5], [8], [4], [1], [9], [0], [1], [4], [4], [8], [4], [9], [2, 6], [0], [0], [4], [6], [8], [9], [6], [2], [0], [4], [9], [8], [9], [3], [9], [2], [6], [7], [0], [9], [3, 5], [1], [8], [7], [0], [6], [4], [4], [1], [9], [2, 4], [6], [7], [9], [8], [3], [9], [2], [1], [0, 2], [7], [2], [1], [0, 2], [0], [3, 5], [6], [0], [4], [3, 6], [2], [8], [8], [0], [6], [0], [5], [2], [8], [7], [8], [6], [5], [9], [4], [2], [4], [6], [0, 8], [6], [2], [2], [4], [1], [0], [5], [9], [8], [9], [3], [2, 5], [9], [3, 6], [8], [1], [6], [3], [7], [5], [6], [2], [0], [2], [8], [2], [8], [7], [7], [8], [1], [0], [0, 8], [9], [7], [0], [3], [8], [0], [5], [0, 8], [5], [8], [7], [0, 2], [0], [9], [2], [4], [4], [4], [9], [2], [2, 6], [2, 5], [3, 5], [1], [3], [2], [0], [0], [4], [0], [6], [3, 5], [8], [0, 2], [5], [8], [6], [3, 4], [8], [5], [2, 3], [9], [7], [9], [7], [1], [0], [1], [9], [6], [9], [2], [7], [9], [4], [4], [0], [6], [2], [4], [1], [3, 5], [7], [3], [8], [5], [9], [0], [3], [2, 3, 6], [3], [4], [7], [6], [3, 4], [2], [5], [9], [0], [5], [9], [9], [8], [7], [5, 7], [4], [8], [2], [2, 3, 4], [2], [3], [1], [0], [4], [1], [8], [8], [4], [9], [4], [4], [3, 5], [3], [9], [2], [0], [1], [1], [8], [4], [2, 4], [8], [3], [6], [8], [5], [7], [6], [2], [5], [4], [7], [3], [3], [9], [0], [1], [5], [9], [5], [7], [6], [0], [4], [2], [2], [5], [6], [3], [8], [9], [2], [6], [1], [4], [5], [4], [6], [7], [2], [1], [0], [2], [0], [4], [9], [8], [8], [9], [1], [1], [5], [0], [0], [8], [7], [1], [7], [4], [5], [4], [3, 5], [3], [2], [0], [6], [6], [0], [1], [3], [9], [8], [3], [7], [8], [0], [4], [8], [9], [0], [1], [7], [1], [6], [2], [9], [5], [2, 3, 6], [0], [3, 5], [9], [8], [7], [7], [1], [6], [8], [3, 5], [9], [3], [8], [2], [2], [1], [8], [2], [0], [9], [3, 5, 7], [9], [8], [8], [6], [7], [3], [7], [1], [3], [9], [8], [9], [3, 5], [6], [7], [2, 4], [3], [3], [0], [5], [9], [7], [3, 5], [5], [0, 2], [6], [5], [1], [8], [2], [7], [2, 3], [9], [0], [0], [7], [0], [8], [7], [3], [4, 5, 7], [8], [9], [3], [7], [9], [7], [8], [7], [9], [8], [5], [4], [8], [7], [7], [2, 6], [3], [8], [2], [0, 1], [9], [3, 5], [3], [3], [9], [2, 5], [5, 7], [8], [7], [3], [5], [3], [5], [9], [7], [6], [2], [3], [6], [4], [5], [9], [4], [2], [1], [9], [6], [0], [2], [6], [4, 7], [4], [7], [9], [0], [7], [4], [5], [5], [3], [1], [1], [2], [6], [8], [2], [1], [3], [8], [5], [9], [6], [1], [1], [5], [0], [6], [0], [9], [2], [6], [5], [8], [9], [3, 5], [5], [6], [0, 2], [9], [1], [4], [1], [8], [7], [1], [7], [3, 4], [2, 3], [4], [9], [7], [3], [2], [9], [9], [4], [3], [2], [1], [3], [0], [7], [9], [0, 2], [4], [5], [7], [5], [2], [8], [7], [6], [9], [6], [9], [3], [8], [5], [6], [6], [9], [5], [7], [8], [0], [3], [0], [7], [4], [8], [2], [5], [1], [3], [2], [2], [6], [4], [1], [2, 7], [2, 4], [4], [3, 5], [1], [3], [3, 5, 7], [3, 5], [6], [3], [7], [0], [8], [4], [3, 4, 5], [5], [7], [7], [5], [4], [3, 5], [9], [6], [8], [0, 2], [3], [3], [1], [6], [1], [7], [0], [3], [4], [0, 2], [9], [4], [4, 5, 7], [8], [7], [5, 7], [0], [9], [6], [8], [0], [8], [2], [8], [5], [7], [7], [2], [2], [0], [0], [0], [7], [4], [1], [6], [6], [8], [8], [9], [8], [9], [0], [1], [6], [3, 6], [0], [9], [0], [6], [2, 4], [6], [5], [4], [0, 8], [8], [4], [1], [4], [0], [3], [3], [0], [9], [9], [1], [9], [1], [2], [5], [3, 5], [4], [2], [9], [6], [0], [9], [6], [6], [8], [0], [6], [1], [4], [6], [8], [0], [5], [4], [1], [2], [0], [9], [6], [4], [2], [4], [6], [5], [9], [7], [7], [4], [6], [2], [0], [1], [0, 4, 9], [0], [3], [2, 3], [9], [0], [9], [7], [8], [6], [7], [6], [8], [2], [4], [5], [0, 3], [0], [3], [2], [1], [7], [5], [9], [3], [4], [5], [3, 5], [1], [5], [0], [1], [1], [1], [9], [7], [5], [4], [9], [7], [8], [1], [0], [2], [8], [5], [6], [7], [0], [6, 9], [4], [8], [4], [4], [6], [6], [3], [8], [1], [8], [4], [6], [5, 7], [9], [2], [0, 2], [1], [4], [9], [1], [6], [7], [2], [0, 2, 3], [1], [2, 4, 6], [6], [5], [2], [2], [5], [3], [0], [0], [0], [1], [5], [3], [3], [5], [8], [7], [5], [6], [5], [8], [8], [3], [9], [4], [6], [5], [1], [1], [0], [3], [3], [9], [4], [8], [1], [7], [7], [9], [9], [4], [8], [6], [6], [2], [8], [2], [7], [6], [7], [0], [2], [1], [2], [9], [2, 3, 4], [6], [9], [6], [1], [0], [1], [8], [7], [0], [0], [4], [7], [4], [3, 5], [6], [9], [5, 7], [9], [0], [7], [4], [5], [8], [1], [4], [7], [9], [8], [8], [8], [6], [3], [7], [0], [8], [9], [6], [2], [6], [3], [2], [9], [7], [7], [2], [0], [5], [6], [1], [6], [3, 5], [9], [9], [9], [3], [0, 2], [0], [3], [0], [2, 6], [0], [7], [2], [9], [3], [5], [7], [6], [5], [9], [5], [6], [1], [0, 2], [4], [0], [2], [7], [8], [4], [4], [0], [9], [6], [9], [2, 4], [9], [3, 5], [2], [2, 4, 6], [3], [2], [2], [8], [8], [1], [0], [1], [6], [8], [0, 2], [8], [2, 5], [1], [4], [9], [1], [5], [7], [1], [3], [0], [1], [5], [0, 2], [8], [1], [1], [3, 5], [3], [1], [8], [1], [8], [2, 5, 6], [1], [9], [0], [5], [0, 4], [4], [0], [2, 4, 5], [1], [4], [0], [4], [9], [5], [1], [0, 2], [2, 4], [7], [8], [7], [2], [4], [5], [2, 3, 5], [7], [0], [4, 6], [1], [5], [9], [8], [0], [2], [0], [7], [6], [0], [6], [9], [7], [5], [8], [4], [6], [0, 2], [6], [3, 7], [6], [8], [1], [1], [8], [9], [7], [2], [9], [0], [0, 2], [0, 2], [9], [0], [2], [5], [2, 3, 7], [7], [9], [1], [7], [9], [8], [4], [5], [0], [8], [0], [2], [5], [2], [8], [4], [4], [8], [9], [7], [8], [0, 3], [6], [6], [0], [1], [1], [1], [8], [1], [4, 7], [4], [0], [7], [8], [2], [1], [2], [5], [2, 4], [6], [0], [5], [7], [3], [4], [3], [9], [2, 4, 7], [8], [8], [0], [8], [7], [4], [1], [8], [4], [9], [5], [2, 4], [1], [9], [3, 7], [7], [7], [0], [3], [8], [3], [3], [0], [5], [7], [0], [8], [0], [0], [9], [2], [0], [3], [4], [8], [2], [2], [6], [3], [2, 3, 5], [0, 2], [2], [9], [4], [0], [1], [7], [5], [5], [7], [3], [0], [4, 7], [6], [1], [7], [5], [8], [0], [8], [2, 4], [7], [0], [3], [5], [3], [0], [6], [5], [1], [7]]\n"
     ]
    }
   ],
   "source": [
    "imprecise_results = []\n",
    "for i in range(len(results)):\n",
    "    act_index = results[i]\n",
    "    set_value_results = act_set[act_index]\n",
    "    imprecise_results.append(set_value_results)\n",
    "\n",
    "print(imprecise_results)"
   ],
   "metadata": {
    "collapsed": false,
    "pycharm": {
     "name": "#%%\n"
    }
   }
  },
  {
   "cell_type": "code",
   "execution_count": 23,
   "outputs": [
    {
     "name": "stdout",
     "output_type": "stream",
     "text": [
      "[0.87990288]\n"
     ]
    }
   ],
   "source": [
    "# 正确率\n",
    "average_utility_imprecision = AU.average_utility(utility_matrix, results, y_test_label, act_set)\n",
    "print(average_utility_imprecision)"
   ],
   "metadata": {
    "collapsed": false,
    "pycharm": {
     "name": "#%%\n"
    }
   }
  },
  {
   "cell_type": "code",
   "execution_count": 41,
   "outputs": [
    {
     "name": "stdout",
     "output_type": "stream",
     "text": [
      "label: [0]\n",
      "prediciton: [0, 2]\n"
     ]
    },
    {
     "data": {
      "text/plain": "<Figure size 432x288 with 1 Axes>",
      "image/png": "[encoded data removed]"
     },
     "metadata": {
      "needs_background": "light"
     },
     "output_type": "display_data"
    },
    {
     "name": "stdout",
     "output_type": "stream",
     "text": [
      "label: [5]\n",
      "prediciton: [5, 7]\n"
     ]
    },
    {
     "data": {
      "text/plain": "<Figure size 432x288 with 1 Axes>",
      "image/png": "[encoded data removed]"
     },
     "metadata": {
      "needs_background": "light"
     },
     "output_type": "display_data"
    },
    {
     "name": "stdout",
     "output_type": "stream",
     "text": [
      "label: [6]\n",
      "prediciton: [6]\n"
     ]
    },
    {
     "data": {
      "text/plain": "<Figure size 432x288 with 1 Axes>",
      "image/png": "[encoded data removed]"
     },
     "metadata": {
      "needs_background": "light"
     },
     "output_type": "display_data"
    }
   ],
   "source": [
    "#label_dict = {0:'airplane', 1:'automobile', 2:'bird', 3:'cat', 4:'deer',\n",
    "#              5:'dog', 6:'frog', 7:'horse', 8:'ship', 9:'truck'}\n",
    "import matplotlib.pyplot as plt\n",
    "from skimage.io import imread, imshow\n",
    "\n",
    "imshow(x_test[21])\n",
    "print('label:', y_test_label[21])\n",
    "print('prediciton:', imprecise_results[21])\n",
    "plt.show()\n",
    "\n",
    "imshow(x_test[24])\n",
    "print('label:', y_test_label[24])\n",
    "print('prediciton:', imprecise_results[24])\n",
    "plt.show()\n",
    "\n",
    "imshow(x_test[7777])\n",
    "print('label:', y_test_label[7777])\n",
    "print('prediciton:', imprecise_results[7777])\n",
    "plt.show()"
   ],
   "metadata": {
    "collapsed": false,
    "pycharm": {
     "name": "#%%\n"
    }
   }
  },
  {
   "cell_type": "code",
   "execution_count": null,
   "outputs": [],
   "source": [],
   "metadata": {
    "collapsed": false,
    "pycharm": {
     "name": "#%%\n"
    }
   }
  }
 ],
 "metadata": {
  "kernelspec": {
   "display_name": "Python 3",
   "language": "python",
   "name": "python3"
  },
  "language_info": {
   "codemirror_mode": {
    "name": "ipython",
    "version": 2
   },
   "file_extension": ".py",
   "mimetype": "text/x-python",
   "name": "python",
   "nbconvert_exporter": "python",
   "pygments_lexer": "ipython2",
   "version": "2.7.6"
  }
 },
 "nbformat": 4,
 "nbformat_minor": 0
}